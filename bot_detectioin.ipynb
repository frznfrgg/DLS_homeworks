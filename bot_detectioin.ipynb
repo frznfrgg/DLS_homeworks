{
 "cells": [
  {
   "cell_type": "markdown",
   "id": "b847842d",
   "metadata": {},
   "source": [
    "# You are bot!\n",
    "## Kaggle competition [(competition page)](https://www.kaggle.com/competitions/you-are-bot/overview)\n",
    "This notebook is my solution to You are bot! kaggle competition that scored first on leaderboard.\n",
    "The objective of the competition is to perform a binary classification to detect bots in dialogs."
   ]
  },
  {
   "cell_type": "code",
   "execution_count": 2,
   "id": "eaa3fb16",
   "metadata": {},
   "outputs": [],
   "source": [
    "import json\n",
    "import math\n",
    "from collections import Counter\n",
    "from typing import List\n",
    "\n",
    "import datasets\n",
    "import matplotlib.pyplot as plt\n",
    "import numpy as np\n",
    "import pandas as pd\n",
    "import seaborn as sns\n",
    "import torch\n",
    "from catboost import CatBoostClassifier\n",
    "from sentence_transformers import SentenceTransformer\n",
    "from sklearn.decomposition import PCA\n",
    "from sklearn.ensemble import RandomForestClassifier\n",
    "from sklearn.linear_model import LogisticRegression\n",
    "from sklearn.metrics import accuracy_score, f1_score\n",
    "from sklearn.model_selection import StratifiedKFold, cross_validate\n",
    "from sklearn.pipeline import Pipeline\n",
    "from sklearn.preprocessing import RobustScaler\n",
    "from tqdm.auto import tqdm\n",
    "from transformers import AutoModelForCausalLM, AutoTokenizer\n",
    "\n",
    "sns.set_theme(style=\"darkgrid\")"
   ]
  },
  {
   "cell_type": "code",
   "execution_count": 3,
   "id": "0d9012ab",
   "metadata": {},
   "outputs": [
    {
     "data": {
      "text/plain": [
       "'cuda'"
      ]
     },
     "execution_count": 3,
     "metadata": {},
     "output_type": "execute_result"
    }
   ],
   "source": [
    "device = \"cuda\" if torch.cuda.is_available() else \"cpu\"\n",
    "device"
   ]
  },
  {
   "cell_type": "markdown",
   "id": "b6c338be",
   "metadata": {},
   "source": [
    "# Raw data"
   ]
  },
  {
   "cell_type": "markdown",
   "id": "2649ffb6",
   "metadata": {},
   "source": [
    "## Loading and preprocessing"
   ]
  },
  {
   "cell_type": "code",
   "execution_count": 4,
   "id": "7706a663",
   "metadata": {},
   "outputs": [],
   "source": [
    "with open(\"../data/train.json\") as train_json, open(\"../data/test.json\") as test_json:\n",
    "    train_data = json.load(train_json)\n",
    "    test_data = json.load(test_json)\n",
    "data = {\"train\": train_data, \"test\": test_data}"
   ]
  },
  {
   "cell_type": "code",
   "execution_count": 5,
   "id": "65a45de0",
   "metadata": {},
   "outputs": [],
   "source": [
    "flattened_data = {\"train\": [], \"test\": []}\n",
    "for split in [\"train\", \"test\"]:\n",
    "    for conv_id, messages in data[split].items():\n",
    "        for msg in messages:\n",
    "            flattened_data[split].append(\n",
    "                {\n",
    "                    \"id\": conv_id,\n",
    "                    \"message\": msg[\"message\"],\n",
    "                    \"text\": msg[\"text\"],\n",
    "                    \"participant_index\": msg[\"participant_index\"],\n",
    "                }\n",
    "            )\n",
    "train_df = pd.DataFrame(flattened_data[\"train\"])\n",
    "test_df = pd.DataFrame(flattened_data[\"test\"])"
   ]
  },
  {
   "cell_type": "code",
   "execution_count": 6,
   "id": "6c533ad6",
   "metadata": {},
   "outputs": [],
   "source": [
    "train_df[\"ID\"] = train_df[\"id\"] + \"_\" + train_df[\"participant_index\"]\n",
    "test_df[\"ID\"] = test_df[\"id\"] + \"_\" + test_df[\"participant_index\"]"
   ]
  },
  {
   "cell_type": "code",
   "execution_count": 7,
   "id": "74b20150",
   "metadata": {},
   "outputs": [
    {
     "data": {
      "text/plain": [
       "((6334, 5), (2955, 5))"
      ]
     },
     "execution_count": 7,
     "metadata": {},
     "output_type": "execute_result"
    }
   ],
   "source": [
    "train_df.shape, test_df.shape"
   ]
  },
  {
   "cell_type": "code",
   "execution_count": 8,
   "id": "da623345",
   "metadata": {},
   "outputs": [],
   "source": [
    "y_train = pd.read_csv(\"../data/ytrain.csv\")\n",
    "y_train[\"ID\"] = y_train[\"dialog_id\"] + \"_\" + y_train[\"participant_index\"].astype(str)\n",
    "y_train.drop(columns=[\"participant_index\", \"dialog_id\"], inplace=True)"
   ]
  },
  {
   "cell_type": "code",
   "execution_count": 9,
   "id": "013f4305",
   "metadata": {},
   "outputs": [],
   "source": [
    "train_df = pd.merge(train_df, y_train, on=\"ID\", how=\"left\")"
   ]
  },
  {
   "cell_type": "code",
   "execution_count": 10,
   "id": "6a69fc71",
   "metadata": {},
   "outputs": [
    {
     "name": "stderr",
     "output_type": "stream",
     "text": [
      "/tmp/ipykernel_4406/780560700.py:3: DeprecationWarning: DataFrameGroupBy.apply operated on the grouping columns. This behavior is deprecated, and in a future version of pandas the grouping columns will be excluded from the operation. Either pass `include_groups=False` to exclude the groupings or explicitly select the grouping columns after groupby to silence this warning.\n",
      "  .apply(lambda x: x.sort_values(\"message\"))\n",
      "/tmp/ipykernel_4406/780560700.py:8: DeprecationWarning: DataFrameGroupBy.apply operated on the grouping columns. This behavior is deprecated, and in a future version of pandas the grouping columns will be excluded from the operation. Either pass `include_groups=False` to exclude the groupings or explicitly select the grouping columns after groupby to silence this warning.\n",
      "  .apply(lambda x: x.sort_values(\"message\"))\n"
     ]
    }
   ],
   "source": [
    "train_df = (\n",
    "    train_df.groupby(\"id\")\n",
    "    .apply(lambda x: x.sort_values(\"message\"))\n",
    "    .reset_index(drop=True)\n",
    ")\n",
    "test_df = (\n",
    "    test_df.groupby(\"id\")\n",
    "    .apply(lambda x: x.sort_values(\"message\"))\n",
    "    .reset_index(drop=True)\n",
    ")"
   ]
  },
  {
   "cell_type": "code",
   "execution_count": 11,
   "id": "556196ff",
   "metadata": {},
   "outputs": [
    {
     "data": {
      "text/html": [
       "<div>\n",
       "<style scoped>\n",
       "    .dataframe tbody tr th:only-of-type {\n",
       "        vertical-align: middle;\n",
       "    }\n",
       "\n",
       "    .dataframe tbody tr th {\n",
       "        vertical-align: top;\n",
       "    }\n",
       "\n",
       "    .dataframe thead th {\n",
       "        text-align: right;\n",
       "    }\n",
       "</style>\n",
       "<table border=\"1\" class=\"dataframe\">\n",
       "  <thead>\n",
       "    <tr style=\"text-align: right;\">\n",
       "      <th></th>\n",
       "      <th>id</th>\n",
       "      <th>message</th>\n",
       "      <th>text</th>\n",
       "      <th>participant_index</th>\n",
       "      <th>ID</th>\n",
       "      <th>is_bot</th>\n",
       "    </tr>\n",
       "  </thead>\n",
       "  <tbody>\n",
       "    <tr>\n",
       "      <th>0</th>\n",
       "      <td>000c0bd4f6554034ae2a050b5d8f6dea</td>\n",
       "      <td>0</td>\n",
       "      <td>че как?</td>\n",
       "      <td>0</td>\n",
       "      <td>000c0bd4f6554034ae2a050b5d8f6dea_0</td>\n",
       "      <td>1</td>\n",
       "    </tr>\n",
       "    <tr>\n",
       "      <th>1</th>\n",
       "      <td>000c0bd4f6554034ae2a050b5d8f6dea</td>\n",
       "      <td>1</td>\n",
       "      <td>Жопка</td>\n",
       "      <td>1</td>\n",
       "      <td>000c0bd4f6554034ae2a050b5d8f6dea_1</td>\n",
       "      <td>0</td>\n",
       "    </tr>\n",
       "    <tr>\n",
       "      <th>2</th>\n",
       "      <td>000c0bd4f6554034ae2a050b5d8f6dea</td>\n",
       "      <td>2</td>\n",
       "      <td>жопа жопа/</td>\n",
       "      <td>0</td>\n",
       "      <td>000c0bd4f6554034ae2a050b5d8f6dea_0</td>\n",
       "      <td>1</td>\n",
       "    </tr>\n",
       "    <tr>\n",
       "      <th>3</th>\n",
       "      <td>000c0bd4f6554034ae2a050b5d8f6dea</td>\n",
       "      <td>3</td>\n",
       "      <td>жопич</td>\n",
       "      <td>1</td>\n",
       "      <td>000c0bd4f6554034ae2a050b5d8f6dea_1</td>\n",
       "      <td>0</td>\n",
       "    </tr>\n",
       "    <tr>\n",
       "      <th>4</th>\n",
       "      <td>000c0bd4f6554034ae2a050b5d8f6dea</td>\n",
       "      <td>4</td>\n",
       "      <td>жопич жопич</td>\n",
       "      <td>0</td>\n",
       "      <td>000c0bd4f6554034ae2a050b5d8f6dea_0</td>\n",
       "      <td>1</td>\n",
       "    </tr>\n",
       "  </tbody>\n",
       "</table>\n",
       "</div>"
      ],
      "text/plain": [
       "                                 id  message         text participant_index  \\\n",
       "0  000c0bd4f6554034ae2a050b5d8f6dea        0      че как?                 0   \n",
       "1  000c0bd4f6554034ae2a050b5d8f6dea        1        Жопка                 1   \n",
       "2  000c0bd4f6554034ae2a050b5d8f6dea        2   жопа жопа/                 0   \n",
       "3  000c0bd4f6554034ae2a050b5d8f6dea        3        жопич                 1   \n",
       "4  000c0bd4f6554034ae2a050b5d8f6dea        4  жопич жопич                 0   \n",
       "\n",
       "                                   ID  is_bot  \n",
       "0  000c0bd4f6554034ae2a050b5d8f6dea_0       1  \n",
       "1  000c0bd4f6554034ae2a050b5d8f6dea_1       0  \n",
       "2  000c0bd4f6554034ae2a050b5d8f6dea_0       1  \n",
       "3  000c0bd4f6554034ae2a050b5d8f6dea_1       0  \n",
       "4  000c0bd4f6554034ae2a050b5d8f6dea_0       1  "
      ]
     },
     "execution_count": 11,
     "metadata": {},
     "output_type": "execute_result"
    }
   ],
   "source": [
    "train_df.head()"
   ]
  },
  {
   "cell_type": "code",
   "execution_count": 12,
   "id": "94d5bcdf",
   "metadata": {},
   "outputs": [
    {
     "data": {
      "text/html": [
       "<div>\n",
       "<style scoped>\n",
       "    .dataframe tbody tr th:only-of-type {\n",
       "        vertical-align: middle;\n",
       "    }\n",
       "\n",
       "    .dataframe tbody tr th {\n",
       "        vertical-align: top;\n",
       "    }\n",
       "\n",
       "    .dataframe thead th {\n",
       "        text-align: right;\n",
       "    }\n",
       "</style>\n",
       "<table border=\"1\" class=\"dataframe\">\n",
       "  <thead>\n",
       "    <tr style=\"text-align: right;\">\n",
       "      <th></th>\n",
       "      <th>id</th>\n",
       "      <th>message</th>\n",
       "      <th>text</th>\n",
       "      <th>participant_index</th>\n",
       "      <th>ID</th>\n",
       "    </tr>\n",
       "  </thead>\n",
       "  <tbody>\n",
       "    <tr>\n",
       "      <th>0</th>\n",
       "      <td>00559a1338f444c18eb301f1c822b483</td>\n",
       "      <td>0</td>\n",
       "      <td>квадрокоптth</td>\n",
       "      <td>0</td>\n",
       "      <td>00559a1338f444c18eb301f1c822b483_0</td>\n",
       "    </tr>\n",
       "    <tr>\n",
       "      <th>1</th>\n",
       "      <td>00559a1338f444c18eb301f1c822b483</td>\n",
       "      <td>1</td>\n",
       "      <td>Привет, что это?</td>\n",
       "      <td>1</td>\n",
       "      <td>00559a1338f444c18eb301f1c822b483_1</td>\n",
       "    </tr>\n",
       "    <tr>\n",
       "      <th>2</th>\n",
       "      <td>00559a1338f444c18eb301f1c822b483</td>\n",
       "      <td>2</td>\n",
       "      <td>экто квадратный вертолёт</td>\n",
       "      <td>0</td>\n",
       "      <td>00559a1338f444c18eb301f1c822b483_0</td>\n",
       "    </tr>\n",
       "    <tr>\n",
       "      <th>3</th>\n",
       "      <td>00559a1338f444c18eb301f1c822b483</td>\n",
       "      <td>3</td>\n",
       "      <td>Понял, я знаю только квадроберов</td>\n",
       "      <td>1</td>\n",
       "      <td>00559a1338f444c18eb301f1c822b483_1</td>\n",
       "    </tr>\n",
       "    <tr>\n",
       "      <th>4</th>\n",
       "      <td>00559a1338f444c18eb301f1c822b483</td>\n",
       "      <td>4</td>\n",
       "      <td>харош</td>\n",
       "      <td>0</td>\n",
       "      <td>00559a1338f444c18eb301f1c822b483_0</td>\n",
       "    </tr>\n",
       "  </tbody>\n",
       "</table>\n",
       "</div>"
      ],
      "text/plain": [
       "                                 id  message  \\\n",
       "0  00559a1338f444c18eb301f1c822b483        0   \n",
       "1  00559a1338f444c18eb301f1c822b483        1   \n",
       "2  00559a1338f444c18eb301f1c822b483        2   \n",
       "3  00559a1338f444c18eb301f1c822b483        3   \n",
       "4  00559a1338f444c18eb301f1c822b483        4   \n",
       "\n",
       "                               text participant_index  \\\n",
       "0                      квадрокоптth                 0   \n",
       "1                  Привет, что это?                 1   \n",
       "2          экто квадратный вертолёт                 0   \n",
       "3  Понял, я знаю только квадроберов                 1   \n",
       "4                             харош                 0   \n",
       "\n",
       "                                   ID  \n",
       "0  00559a1338f444c18eb301f1c822b483_0  \n",
       "1  00559a1338f444c18eb301f1c822b483_1  \n",
       "2  00559a1338f444c18eb301f1c822b483_0  \n",
       "3  00559a1338f444c18eb301f1c822b483_1  \n",
       "4  00559a1338f444c18eb301f1c822b483_0  "
      ]
     },
     "execution_count": 12,
     "metadata": {},
     "output_type": "execute_result"
    }
   ],
   "source": [
    "test_df.head()"
   ]
  },
  {
   "cell_type": "code",
   "execution_count": 13,
   "id": "9a1783aa",
   "metadata": {},
   "outputs": [],
   "source": [
    "# Converting dataframes into datasets\n",
    "\n",
    "grouped_train_df = train_df.groupby(\"id\", as_index=False).agg(\n",
    "    {\"text\": list, \"is_bot\": list, \"participant_index\": list}\n",
    ")\n",
    "grouped_test_df = test_df.groupby(\"id\", as_index=False).agg(\n",
    "    {\"text\": list, \"participant_index\": list}\n",
    ")"
   ]
  },
  {
   "cell_type": "code",
   "execution_count": 14,
   "id": "31328e84",
   "metadata": {},
   "outputs": [
    {
     "data": {
      "text/plain": [
       "DatasetDict({\n",
       "    train: Dataset({\n",
       "        features: ['id', 'text', 'is_bot', 'participant_index'],\n",
       "        num_rows: 786\n",
       "    })\n",
       "    test: Dataset({\n",
       "        features: ['id', 'text', 'participant_index'],\n",
       "        num_rows: 338\n",
       "    })\n",
       "})"
      ]
     },
     "execution_count": 14,
     "metadata": {},
     "output_type": "execute_result"
    }
   ],
   "source": [
    "dataset = datasets.DatasetDict(\n",
    "    {\n",
    "        \"train\": datasets.Dataset.from_pandas(grouped_train_df),\n",
    "        \"test\": datasets.Dataset.from_pandas(grouped_test_df),\n",
    "    }\n",
    ")\n",
    "dataset"
   ]
  },
  {
   "cell_type": "markdown",
   "id": "1a54edd1",
   "metadata": {},
   "source": [
    "## Visualising valuable distributions"
   ]
  },
  {
   "cell_type": "code",
   "execution_count": 15,
   "id": "6627855a",
   "metadata": {},
   "outputs": [],
   "source": [
    "bots_cnt = Counter(train_df[\"is_bot\"])\n",
    "messages_per_dialog = list(Counter(train_df[\"id\"]).values())\n",
    "messages_per_dialog = Counter(messages_per_dialog)"
   ]
  },
  {
   "cell_type": "code",
   "execution_count": 16,
   "id": "a3ef8d19",
   "metadata": {},
   "outputs": [
    {
     "data": {
      "image/png": "[encoded data removed]",
      "text/plain": [
       "<Figure size 1200x400 with 2 Axes>"
      ]
     },
     "metadata": {},
     "output_type": "display_data"
    }
   ],
   "source": [
    "fig, axes = plt.subplots(1, 2, figsize=(12, 4))\n",
    "\n",
    "sns.barplot(x=list(bots_cnt.keys()), y=list(bots_cnt.values()), ax=axes[0])\n",
    "axes[0].set_title(\"Samples per class (bot/human)\")\n",
    "axes[0].set_xlabel(\"Role\")\n",
    "axes[0].set_ylabel(\"Number of Samples\")\n",
    "axes[0].tick_params(\n",
    "    axis=\"x\",\n",
    ")\n",
    "\n",
    "sns.barplot(\n",
    "    x=list(messages_per_dialog.keys()), y=list(messages_per_dialog.values()), ax=axes[1]\n",
    ")\n",
    "axes[1].set_title(\"Number of messages per dialog\")\n",
    "axes[1].set_xlabel(\"Number of messages\")\n",
    "axes[1].set_ylabel(\"Number of Samples\")\n",
    "axes[1].tick_params(axis=\"x\")\n",
    "\n",
    "plt.tight_layout()\n",
    "plt.show()"
   ]
  },
  {
   "cell_type": "markdown",
   "id": "0412a9e2",
   "metadata": {},
   "source": [
    "## Extracting features"
   ]
  },
  {
   "cell_type": "markdown",
   "id": "b9a1dd28",
   "metadata": {},
   "source": [
    "Loading models that would be used to calculate perplexities"
   ]
  },
  {
   "cell_type": "code",
   "execution_count": 17,
   "id": "2a69fc6c",
   "metadata": {},
   "outputs": [
    {
     "name": "stderr",
     "output_type": "stream",
     "text": [
      "/home/frznfrg/mambaforge/envs/DLS/lib/python3.10/site-packages/transformers/generation/configuration_utils.py:820: UserWarning: `return_dict_in_generate` is NOT set to `True`, but `output_hidden_states` is. When `return_dict_in_generate` is not `True`, `output_hidden_states` is ignored.\n",
      "  warnings.warn(\n"
     ]
    }
   ],
   "source": [
    "model_p = AutoModelForCausalLM.from_pretrained(\n",
    "    \"gpt2\",\n",
    "    trust_remote_code=True,\n",
    "    output_hidden_states=True,\n",
    ")\n",
    "tokenizer = AutoTokenizer.from_pretrained(\n",
    "    \"gpt2\",\n",
    "    trust_remote_code=True,\n",
    ")"
   ]
  },
  {
   "cell_type": "code",
   "execution_count": 18,
   "id": "2d805212",
   "metadata": {},
   "outputs": [],
   "source": [
    "def calculate_perplexity(\n",
    "    message: str,\n",
    "    context: str,\n",
    "    model: AutoModelForCausalLM,\n",
    "    tokenizer: AutoTokenizer,\n",
    "    device: str,\n",
    ") -> float:\n",
    "    \"\"\"Calculates perplexity tokens in message based on this message and its context.\n",
    "\n",
    "    Args:\n",
    "        message (str): message for calculating perplexities\n",
    "        context (str): context of a message. Perplexities are not calculated for tokens of context!\n",
    "        model (AutoModelForCausalLM): model for calculating perplexities\n",
    "        tokenizer (AutoTokenizer): model's tokenizer\n",
    "        device (str): whether to run or \"cuda\" or \"cpu\"\n",
    "\n",
    "    Returns:\n",
    "        float: perplexity of a message\n",
    "    \"\"\"\n",
    "\n",
    "    if context != \"\":\n",
    "        context += \" \"\n",
    "    full_input = context + message\n",
    "    encodings = tokenizer(\n",
    "        full_input, return_tensors=\"pt\", truncation=True, max_length=512\n",
    "    )\n",
    "    input_ids = encodings[\"input_ids\"].to(device)\n",
    "\n",
    "    context_ids = tokenizer(\n",
    "        context, return_tensors=\"pt\", truncation=True, max_length=512\n",
    "    )[\"input_ids\"]\n",
    "    context_length = context_ids.shape[1]\n",
    "\n",
    "    labels = input_ids.clone()\n",
    "    labels[:, :context_length] = -100\n",
    "\n",
    "    model = model.to(device)\n",
    "    with torch.no_grad():\n",
    "        outputs = model(input_ids=input_ids, labels=labels)\n",
    "        loss = outputs.loss.item()\n",
    "\n",
    "    perplexity = math.exp(loss)\n",
    "    return perplexity"
   ]
  },
  {
   "cell_type": "code",
   "execution_count": 19,
   "id": "913b8429",
   "metadata": {},
   "outputs": [],
   "source": [
    "def run_perplexities(dataset: datasets.Dataset) -> List[float]:\n",
    "    \"\"\"Calculates perplexities for each message in a dialog\n",
    "\n",
    "    Args:\n",
    "        dataset (datasets.Dataset): dataset with dialogs\n",
    "\n",
    "    Returns:\n",
    "        List[float]: list of perplexities for each message in a dialog\n",
    "    \"\"\"\n",
    "    perplexities = []\n",
    "    for sample in tqdm(dataset):\n",
    "        context = \"\"\n",
    "        sample_perplexities = []\n",
    "        for i, message in enumerate(sample[\"text\"]):\n",
    "            ppl = calculate_perplexity(message, context, model_p, tokenizer, device)\n",
    "            sample_perplexities.append(ppl)\n",
    "            context += \" \" + message\n",
    "            context = context.strip()\n",
    "        perplexities.append(sample_perplexities)\n",
    "    return perplexities"
   ]
  },
  {
   "cell_type": "code",
   "execution_count": 20,
   "id": "5a745600",
   "metadata": {},
   "outputs": [
    {
     "data": {
      "application/vnd.jupyter.widget-view+json": {
       "model_id": "fdee432f3f0142448bae4345d5fff1fd",
       "version_major": 2,
       "version_minor": 0
      },
      "text/plain": [
       "  0%|          | 0/786 [00:00<?, ?it/s]"
      ]
     },
     "metadata": {},
     "output_type": "display_data"
    },
    {
     "name": "stderr",
     "output_type": "stream",
     "text": [
      "`loss_type=None` was set in the config but it is unrecognised.Using the default loss: `ForCausalLMLoss`.\n"
     ]
    }
   ],
   "source": [
    "train_perplexities = run_perplexities(dataset[\"train\"])"
   ]
  },
  {
   "cell_type": "code",
   "execution_count": 21,
   "id": "c25b6771",
   "metadata": {},
   "outputs": [
    {
     "data": {
      "text/html": [
       "<div>\n",
       "<style scoped>\n",
       "    .dataframe tbody tr th:only-of-type {\n",
       "        vertical-align: middle;\n",
       "    }\n",
       "\n",
       "    .dataframe tbody tr th {\n",
       "        vertical-align: top;\n",
       "    }\n",
       "\n",
       "    .dataframe thead th {\n",
       "        text-align: right;\n",
       "    }\n",
       "</style>\n",
       "<table border=\"1\" class=\"dataframe\">\n",
       "  <thead>\n",
       "    <tr style=\"text-align: right;\">\n",
       "      <th></th>\n",
       "      <th>id</th>\n",
       "      <th>text</th>\n",
       "      <th>is_bot</th>\n",
       "      <th>participant_index</th>\n",
       "      <th>perplexities</th>\n",
       "    </tr>\n",
       "  </thead>\n",
       "  <tbody>\n",
       "    <tr>\n",
       "      <th>0</th>\n",
       "      <td>000c0bd4f6554034ae2a050b5d8f6dea</td>\n",
       "      <td>[че как?, Жопка, жопа жопа/, жопич, жопич жопич]</td>\n",
       "      <td>[1, 0, 1, 0, 1]</td>\n",
       "      <td>[0, 1, 0, 1, 0]</td>\n",
       "      <td>[36.426729067469466, 32.93950756777866, 25.016...</td>\n",
       "    </tr>\n",
       "    <tr>\n",
       "      <th>1</th>\n",
       "      <td>009952d565384a69b5ddf1ec76608391</td>\n",
       "      <td>[чио рио?, \"Чио Рио\" – это, вероятно, отсылка ...</td>\n",
       "      <td>[0, 1, 0, 1]</td>\n",
       "      <td>[0, 1, 0, 1]</td>\n",
       "      <td>[92.98256962075439, 11.332784454682079, 4.4705...</td>\n",
       "    </tr>\n",
       "    <tr>\n",
       "      <th>2</th>\n",
       "      <td>00a66ccfbb7f42f39da2b641072d5ef6</td>\n",
       "      <td>[I am OpenAI Assistant!, О, круто. Я Артем. А ...</td>\n",
       "      <td>[0, 1, 0, 1, 0, 1]</td>\n",
       "      <td>[0, 1, 0, 1, 0, 1]</td>\n",
       "      <td>[3171.243806892624, 16.006421545684013, 19.096...</td>\n",
       "    </tr>\n",
       "    <tr>\n",
       "      <th>3</th>\n",
       "      <td>00ee738403dc4b4f98300d110ad7e8ef</td>\n",
       "      <td>[hi, aboba, привет! как тебя зовут?, aboba, не...</td>\n",
       "      <td>[0, 0, 0, 0, 0, 0, 0, 0]</td>\n",
       "      <td>[0, 1, 0, 1, 0, 1, 0, 1]</td>\n",
       "      <td>[nan, 69512.87016613214, 12.643755994195148, 1...</td>\n",
       "    </tr>\n",
       "    <tr>\n",
       "      <th>4</th>\n",
       "      <td>011c5d7ad652481d90d502372d230232</td>\n",
       "      <td>[Hello, Hey there! How's it going? 😊, I'm doin...</td>\n",
       "      <td>[0, 1, 0, 1, 0, 1, 0, 1]</td>\n",
       "      <td>[0, 1, 0, 1, 0, 1, 0, 1]</td>\n",
       "      <td>[nan, 24.13882257785323, 11.67491498872683, 22...</td>\n",
       "    </tr>\n",
       "  </tbody>\n",
       "</table>\n",
       "</div>"
      ],
      "text/plain": [
       "                                 id  \\\n",
       "0  000c0bd4f6554034ae2a050b5d8f6dea   \n",
       "1  009952d565384a69b5ddf1ec76608391   \n",
       "2  00a66ccfbb7f42f39da2b641072d5ef6   \n",
       "3  00ee738403dc4b4f98300d110ad7e8ef   \n",
       "4  011c5d7ad652481d90d502372d230232   \n",
       "\n",
       "                                                text  \\\n",
       "0   [че как?, Жопка, жопа жопа/, жопич, жопич жопич]   \n",
       "1  [чио рио?, \"Чио Рио\" – это, вероятно, отсылка ...   \n",
       "2  [I am OpenAI Assistant!, О, круто. Я Артем. А ...   \n",
       "3  [hi, aboba, привет! как тебя зовут?, aboba, не...   \n",
       "4  [Hello, Hey there! How's it going? 😊, I'm doin...   \n",
       "\n",
       "                     is_bot         participant_index  \\\n",
       "0           [1, 0, 1, 0, 1]           [0, 1, 0, 1, 0]   \n",
       "1              [0, 1, 0, 1]              [0, 1, 0, 1]   \n",
       "2        [0, 1, 0, 1, 0, 1]        [0, 1, 0, 1, 0, 1]   \n",
       "3  [0, 0, 0, 0, 0, 0, 0, 0]  [0, 1, 0, 1, 0, 1, 0, 1]   \n",
       "4  [0, 1, 0, 1, 0, 1, 0, 1]  [0, 1, 0, 1, 0, 1, 0, 1]   \n",
       "\n",
       "                                        perplexities  \n",
       "0  [36.426729067469466, 32.93950756777866, 25.016...  \n",
       "1  [92.98256962075439, 11.332784454682079, 4.4705...  \n",
       "2  [3171.243806892624, 16.006421545684013, 19.096...  \n",
       "3  [nan, 69512.87016613214, 12.643755994195148, 1...  \n",
       "4  [nan, 24.13882257785323, 11.67491498872683, 22...  "
      ]
     },
     "execution_count": 21,
     "metadata": {},
     "output_type": "execute_result"
    }
   ],
   "source": [
    "ppl_train_df = dataset[\"train\"].to_pandas()\n",
    "ppl_train_df[\"perplexities\"] = train_perplexities\n",
    "ppl_train_df.head()"
   ]
  },
  {
   "cell_type": "code",
   "execution_count": 22,
   "id": "c0e416d5",
   "metadata": {},
   "outputs": [],
   "source": [
    "def get_features(df: pd.DataFrame, stage=\"train\") -> dict:\n",
    "    \"\"\"Extracts features (min perplexity, mean perplexity, perplexity variance,\n",
    "    number of messages, text of messages) for each user in a dialog from a dataframe.\n",
    "\n",
    "    Args:\n",
    "        df (pd.DataFrame): dataframe with dialogs\n",
    "        stage (str, optional): train or val. If set to train then the label column is provided. Defaults to \"train\".\n",
    "\n",
    "    Returns:\n",
    "        dict: columns with extracted features\n",
    "    \"\"\"\n",
    "    if stage == \"train\":\n",
    "        data_with_ppl = {\n",
    "            \"ID\": [],\n",
    "            \"is_bot\": [],\n",
    "            \"mean_ppl\": [],\n",
    "            \"min_ppl\": [],\n",
    "            \"variance_ppl\": [],\n",
    "            \"num_messages\": [],\n",
    "            \"text\": [],\n",
    "        }\n",
    "    else:\n",
    "        data_with_ppl = {\n",
    "            \"ID\": [],\n",
    "            \"mean_ppl\": [],\n",
    "            \"min_ppl\": [],\n",
    "            \"variance_ppl\": [],\n",
    "            \"num_messages\": [],\n",
    "            \"text\": [],\n",
    "        }\n",
    "\n",
    "    for _, row in df.iterrows():\n",
    "        if stage == \"train\":\n",
    "            is_user_bot = dict(zip(row[\"participant_index\"], row[\"is_bot\"]))\n",
    "\n",
    "        ppl_per_user = {0: [], 1: []}\n",
    "        text_per_user = {0: [], 1: []}\n",
    "        for participant, perplexity, text in zip(\n",
    "            row[\"participant_index\"], row[\"perplexities\"], row[\"text\"]\n",
    "        ):\n",
    "            if not np.isnan(perplexity):\n",
    "                ppl_per_user[int(participant)].append(perplexity)\n",
    "            text_per_user[int(participant)].append(text)\n",
    "\n",
    "        for participant in ppl_per_user.keys():\n",
    "            if ppl_per_user[participant] != []:\n",
    "                min_ppl = np.min(ppl_per_user[participant])\n",
    "                mean_ppl = np.mean(ppl_per_user[participant])\n",
    "                variance_ppl = np.var(ppl_per_user[participant])\n",
    "            else:\n",
    "                min_ppl = np.nan\n",
    "                mean_ppl = np.nan\n",
    "                variance_ppl = np.nan\n",
    "            num_messages = len(text_per_user[participant])\n",
    "            text = \" \".join(text_per_user[participant])\n",
    "\n",
    "            new_id = row[\"id\"] + \"_\" + str(participant)\n",
    "            data_with_ppl[\"ID\"].append(new_id)\n",
    "            data_with_ppl[\"mean_ppl\"].append(mean_ppl)\n",
    "            data_with_ppl[\"min_ppl\"].append(min_ppl)\n",
    "            data_with_ppl[\"variance_ppl\"].append(variance_ppl)\n",
    "            data_with_ppl[\"num_messages\"].append(num_messages)\n",
    "            data_with_ppl[\"text\"].append(text)\n",
    "            if stage == \"train\":\n",
    "                data_with_ppl[\"is_bot\"].append(is_user_bot[str(participant)])\n",
    "    return data_with_ppl"
   ]
  },
  {
   "cell_type": "code",
   "execution_count": 23,
   "id": "53fe35c2",
   "metadata": {},
   "outputs": [
    {
     "data": {
      "text/html": [
       "<div>\n",
       "<style scoped>\n",
       "    .dataframe tbody tr th:only-of-type {\n",
       "        vertical-align: middle;\n",
       "    }\n",
       "\n",
       "    .dataframe tbody tr th {\n",
       "        vertical-align: top;\n",
       "    }\n",
       "\n",
       "    .dataframe thead th {\n",
       "        text-align: right;\n",
       "    }\n",
       "</style>\n",
       "<table border=\"1\" class=\"dataframe\">\n",
       "  <thead>\n",
       "    <tr style=\"text-align: right;\">\n",
       "      <th></th>\n",
       "      <th>ID</th>\n",
       "      <th>is_bot</th>\n",
       "      <th>mean_ppl</th>\n",
       "      <th>min_ppl</th>\n",
       "      <th>variance_ppl</th>\n",
       "      <th>num_messages</th>\n",
       "      <th>text</th>\n",
       "    </tr>\n",
       "  </thead>\n",
       "  <tbody>\n",
       "    <tr>\n",
       "      <th>0</th>\n",
       "      <td>000c0bd4f6554034ae2a050b5d8f6dea_0</td>\n",
       "      <td>1</td>\n",
       "      <td>21.162650</td>\n",
       "      <td>2.044798</td>\n",
       "      <td>2.044453e+02</td>\n",
       "      <td>3</td>\n",
       "      <td>че как? жопа жопа/ жопич жопич</td>\n",
       "    </tr>\n",
       "    <tr>\n",
       "      <th>1</th>\n",
       "      <td>000c0bd4f6554034ae2a050b5d8f6dea_1</td>\n",
       "      <td>0</td>\n",
       "      <td>20.776682</td>\n",
       "      <td>8.613856</td>\n",
       "      <td>1.479343e+02</td>\n",
       "      <td>2</td>\n",
       "      <td>Жопка жопич</td>\n",
       "    </tr>\n",
       "    <tr>\n",
       "      <th>2</th>\n",
       "      <td>009952d565384a69b5ddf1ec76608391_0</td>\n",
       "      <td>0</td>\n",
       "      <td>48.726543</td>\n",
       "      <td>4.470516</td>\n",
       "      <td>1.958596e+03</td>\n",
       "      <td>2</td>\n",
       "      <td>чио рио? да это отсылка, но почему именно на это</td>\n",
       "    </tr>\n",
       "    <tr>\n",
       "      <th>3</th>\n",
       "      <td>009952d565384a69b5ddf1ec76608391_1</td>\n",
       "      <td>1</td>\n",
       "      <td>8.782652</td>\n",
       "      <td>6.232519</td>\n",
       "      <td>6.503177e+00</td>\n",
       "      <td>2</td>\n",
       "      <td>\"Чио Рио\" – это, вероятно, отсылка к популярно...</td>\n",
       "    </tr>\n",
       "    <tr>\n",
       "      <th>4</th>\n",
       "      <td>00a66ccfbb7f42f39da2b641072d5ef6_0</td>\n",
       "      <td>0</td>\n",
       "      <td>1067.864297</td>\n",
       "      <td>13.252675</td>\n",
       "      <td>2.212108e+06</td>\n",
       "      <td>3</td>\n",
       "      <td>I am OpenAI Assistant! опенэйаю ну то и имею</td>\n",
       "    </tr>\n",
       "  </tbody>\n",
       "</table>\n",
       "</div>"
      ],
      "text/plain": [
       "                                   ID  is_bot     mean_ppl    min_ppl  \\\n",
       "0  000c0bd4f6554034ae2a050b5d8f6dea_0       1    21.162650   2.044798   \n",
       "1  000c0bd4f6554034ae2a050b5d8f6dea_1       0    20.776682   8.613856   \n",
       "2  009952d565384a69b5ddf1ec76608391_0       0    48.726543   4.470516   \n",
       "3  009952d565384a69b5ddf1ec76608391_1       1     8.782652   6.232519   \n",
       "4  00a66ccfbb7f42f39da2b641072d5ef6_0       0  1067.864297  13.252675   \n",
       "\n",
       "   variance_ppl  num_messages  \\\n",
       "0  2.044453e+02             3   \n",
       "1  1.479343e+02             2   \n",
       "2  1.958596e+03             2   \n",
       "3  6.503177e+00             2   \n",
       "4  2.212108e+06             3   \n",
       "\n",
       "                                                text  \n",
       "0                     че как? жопа жопа/ жопич жопич  \n",
       "1                                        Жопка жопич  \n",
       "2   чио рио? да это отсылка, но почему именно на это  \n",
       "3  \"Чио Рио\" – это, вероятно, отсылка к популярно...  \n",
       "4       I am OpenAI Assistant! опенэйаю ну то и имею  "
      ]
     },
     "execution_count": 23,
     "metadata": {},
     "output_type": "execute_result"
    }
   ],
   "source": [
    "ppl_train_df = pd.DataFrame.from_dict(get_features(ppl_train_df))\n",
    "ppl_train_df = ppl_train_df.dropna()\n",
    "ppl_train_df.head()"
   ]
  },
  {
   "cell_type": "markdown",
   "id": "9e72bdb5",
   "metadata": {},
   "source": [
    "### Visualizing extracted perplexity distributions"
   ]
  },
  {
   "cell_type": "code",
   "execution_count": 24,
   "id": "4135c05f",
   "metadata": {},
   "outputs": [
    {
     "data": {
      "image/png": "[encoded data removed]",
      "text/plain": [
       "<Figure size 900x900 with 1 Axes>"
      ]
     },
     "metadata": {},
     "output_type": "display_data"
    }
   ],
   "source": [
    "plt.figure(figsize=(9, 9))\n",
    "palette = {}\n",
    "sns.boxplot(\n",
    "    x=\"is_bot\",\n",
    "    y=\"mean_ppl\",\n",
    "    data=ppl_train_df,\n",
    "    hue=\"is_bot\",\n",
    "    palette=[\"lightgreen\", \"coral\"],\n",
    ")\n",
    "plt.title(\"Perplexity for bot/human\")\n",
    "plt.xlabel(\"0 - human, 1 - bot\")\n",
    "plt.ylabel(\"Perplexity\")\n",
    "plt.ylim(-5, 250)\n",
    "plt.tick_params(axis=\"x\")\n",
    "plt.show()"
   ]
  },
  {
   "cell_type": "markdown",
   "id": "746b8a21",
   "metadata": {},
   "source": [
    "## Trying to classify based on perplexities only"
   ]
  },
  {
   "cell_type": "code",
   "execution_count": 25,
   "id": "0f130e5c",
   "metadata": {},
   "outputs": [
    {
     "name": "stdout",
     "output_type": "stream",
     "text": [
      "Best threshold: 12.826578577923152, Train F1: 0.583\n"
     ]
    }
   ],
   "source": [
    "perplexities = ppl_train_df[\"mean_ppl\"].values\n",
    "labels = ppl_train_df[\"is_bot\"].values\n",
    "\n",
    "thresholds = np.sort(perplexities)\n",
    "\n",
    "best_threshold = None\n",
    "best_f1 = 0\n",
    "\n",
    "for threshold in thresholds:\n",
    "    preds = (perplexities < threshold).astype(int)\n",
    "    f1 = f1_score(labels, preds)\n",
    "    if f1 > best_f1:\n",
    "        best_f1 = f1\n",
    "        best_threshold = threshold\n",
    "\n",
    "print(f\"Best threshold: {best_threshold}, Train F1: {best_f1:.3f}\")"
   ]
  },
  {
   "cell_type": "code",
   "execution_count": 26,
   "id": "67350999",
   "metadata": {},
   "outputs": [
    {
     "data": {
      "text/plain": [
       "0.6811224489795918"
      ]
     },
     "execution_count": 26,
     "metadata": {},
     "output_type": "execute_result"
    }
   ],
   "source": [
    "preds = (perplexities < best_threshold).astype(int)\n",
    "accuracy_score(labels, preds)"
   ]
  },
  {
   "cell_type": "markdown",
   "id": "07938c04",
   "metadata": {},
   "source": [
    "## Extracting features from test split"
   ]
  },
  {
   "cell_type": "code",
   "execution_count": 27,
   "id": "8cd276f9",
   "metadata": {},
   "outputs": [
    {
     "data": {
      "application/vnd.jupyter.widget-view+json": {
       "model_id": "65bb7f8397cd42f8bfa0e0f03f32ebce",
       "version_major": 2,
       "version_minor": 0
      },
      "text/plain": [
       "  0%|          | 0/338 [00:00<?, ?it/s]"
      ]
     },
     "metadata": {},
     "output_type": "display_data"
    }
   ],
   "source": [
    "test_perplexities = run_perplexities(dataset[\"test\"])"
   ]
  },
  {
   "cell_type": "code",
   "execution_count": 28,
   "id": "c432c619",
   "metadata": {},
   "outputs": [
    {
     "data": {
      "text/html": [
       "<div>\n",
       "<style scoped>\n",
       "    .dataframe tbody tr th:only-of-type {\n",
       "        vertical-align: middle;\n",
       "    }\n",
       "\n",
       "    .dataframe tbody tr th {\n",
       "        vertical-align: top;\n",
       "    }\n",
       "\n",
       "    .dataframe thead th {\n",
       "        text-align: right;\n",
       "    }\n",
       "</style>\n",
       "<table border=\"1\" class=\"dataframe\">\n",
       "  <thead>\n",
       "    <tr style=\"text-align: right;\">\n",
       "      <th></th>\n",
       "      <th>id</th>\n",
       "      <th>text</th>\n",
       "      <th>participant_index</th>\n",
       "      <th>perplexities</th>\n",
       "    </tr>\n",
       "  </thead>\n",
       "  <tbody>\n",
       "    <tr>\n",
       "      <th>0</th>\n",
       "      <td>00559a1338f444c18eb301f1c822b483</td>\n",
       "      <td>[квадрокоптth, Привет, что это?, экто квадратн...</td>\n",
       "      <td>[0, 1, 0, 1, 0]</td>\n",
       "      <td>[111.36683696304041, 7.28776558396616, 8.15562...</td>\n",
       "    </tr>\n",
       "    <tr>\n",
       "      <th>1</th>\n",
       "      <td>007bf899fb5b4a3b8105183d0ca56cfa</td>\n",
       "      <td>[hello, привет как дела гыы, а у тебя как?, от...</td>\n",
       "      <td>[0, 1, 0, 1]</td>\n",
       "      <td>[nan, 13.11185582467071, 13.209631294392736, 2...</td>\n",
       "    </tr>\n",
       "    <tr>\n",
       "      <th>2</th>\n",
       "      <td>00ae575033054ce3ba68d2d3e1ba30e2</td>\n",
       "      <td>[йоуйоу как оно, Как дела?, норм а у тебя, нян...</td>\n",
       "      <td>[0, 1, 0, 1, 0, 1, 0, 1, 0]</td>\n",
       "      <td>[34.07587737138938, 20.58313881749836, 21.4354...</td>\n",
       "    </tr>\n",
       "    <tr>\n",
       "      <th>3</th>\n",
       "      <td>01763d48ee644bbb99bffb1a63c18bb4</td>\n",
       "      <td>[ХОЛОКОСТ?, сори я не в курсе такого, СКОЛЬКО ...</td>\n",
       "      <td>[0, 1, 0, 1, 0, 1]</td>\n",
       "      <td>[11.953920654612551, 10.224271885257176, 18.48...</td>\n",
       "    </tr>\n",
       "    <tr>\n",
       "      <th>4</th>\n",
       "      <td>02f44e0ff9ab47a1ae060e9d7ac10cd7</td>\n",
       "      <td>[Привет!, чё как?, никак ))))00)), да, бывает ...</td>\n",
       "      <td>[0, 1, 0, 1, 0, 1, 0, 1, 0, 1, 0, 1]</td>\n",
       "      <td>[30.968580134033434, 17.372830366565605, 507.3...</td>\n",
       "    </tr>\n",
       "  </tbody>\n",
       "</table>\n",
       "</div>"
      ],
      "text/plain": [
       "                                 id  \\\n",
       "0  00559a1338f444c18eb301f1c822b483   \n",
       "1  007bf899fb5b4a3b8105183d0ca56cfa   \n",
       "2  00ae575033054ce3ba68d2d3e1ba30e2   \n",
       "3  01763d48ee644bbb99bffb1a63c18bb4   \n",
       "4  02f44e0ff9ab47a1ae060e9d7ac10cd7   \n",
       "\n",
       "                                                text  \\\n",
       "0  [квадрокоптth, Привет, что это?, экто квадратн...   \n",
       "1  [hello, привет как дела гыы, а у тебя как?, от...   \n",
       "2  [йоуйоу как оно, Как дела?, норм а у тебя, нян...   \n",
       "3  [ХОЛОКОСТ?, сори я не в курсе такого, СКОЛЬКО ...   \n",
       "4  [Привет!, чё как?, никак ))))00)), да, бывает ...   \n",
       "\n",
       "                      participant_index  \\\n",
       "0                       [0, 1, 0, 1, 0]   \n",
       "1                          [0, 1, 0, 1]   \n",
       "2           [0, 1, 0, 1, 0, 1, 0, 1, 0]   \n",
       "3                    [0, 1, 0, 1, 0, 1]   \n",
       "4  [0, 1, 0, 1, 0, 1, 0, 1, 0, 1, 0, 1]   \n",
       "\n",
       "                                        perplexities  \n",
       "0  [111.36683696304041, 7.28776558396616, 8.15562...  \n",
       "1  [nan, 13.11185582467071, 13.209631294392736, 2...  \n",
       "2  [34.07587737138938, 20.58313881749836, 21.4354...  \n",
       "3  [11.953920654612551, 10.224271885257176, 18.48...  \n",
       "4  [30.968580134033434, 17.372830366565605, 507.3...  "
      ]
     },
     "execution_count": 28,
     "metadata": {},
     "output_type": "execute_result"
    }
   ],
   "source": [
    "ppl_test_df = dataset[\"test\"].to_pandas()\n",
    "ppl_test_df[\"perplexities\"] = test_perplexities\n",
    "ppl_test_df.head()"
   ]
  },
  {
   "cell_type": "code",
   "execution_count": 29,
   "id": "355e6c54",
   "metadata": {},
   "outputs": [
    {
     "data": {
      "text/html": [
       "<div>\n",
       "<style scoped>\n",
       "    .dataframe tbody tr th:only-of-type {\n",
       "        vertical-align: middle;\n",
       "    }\n",
       "\n",
       "    .dataframe tbody tr th {\n",
       "        vertical-align: top;\n",
       "    }\n",
       "\n",
       "    .dataframe thead th {\n",
       "        text-align: right;\n",
       "    }\n",
       "</style>\n",
       "<table border=\"1\" class=\"dataframe\">\n",
       "  <thead>\n",
       "    <tr style=\"text-align: right;\">\n",
       "      <th></th>\n",
       "      <th>ID</th>\n",
       "      <th>mean_ppl</th>\n",
       "      <th>min_ppl</th>\n",
       "      <th>variance_ppl</th>\n",
       "      <th>num_messages</th>\n",
       "      <th>text</th>\n",
       "    </tr>\n",
       "  </thead>\n",
       "  <tbody>\n",
       "    <tr>\n",
       "      <th>0</th>\n",
       "      <td>00559a1338f444c18eb301f1c822b483_0</td>\n",
       "      <td>42.042484</td>\n",
       "      <td>6.604987</td>\n",
       "      <td>2403.333671</td>\n",
       "      <td>3</td>\n",
       "      <td>квадрокоптth экто квадратный вертолёт харош</td>\n",
       "    </tr>\n",
       "    <tr>\n",
       "      <th>1</th>\n",
       "      <td>00559a1338f444c18eb301f1c822b483_1</td>\n",
       "      <td>8.317823</td>\n",
       "      <td>7.287766</td>\n",
       "      <td>1.061018</td>\n",
       "      <td>2</td>\n",
       "      <td>Привет, что это? Понял, я знаю только квадроберов</td>\n",
       "    </tr>\n",
       "    <tr>\n",
       "      <th>2</th>\n",
       "      <td>007bf899fb5b4a3b8105183d0ca56cfa_0</td>\n",
       "      <td>13.209631</td>\n",
       "      <td>13.209631</td>\n",
       "      <td>0.000000</td>\n",
       "      <td>2</td>\n",
       "      <td>hello а у тебя как?</td>\n",
       "    </tr>\n",
       "    <tr>\n",
       "      <th>3</th>\n",
       "      <td>007bf899fb5b4a3b8105183d0ca56cfa_1</td>\n",
       "      <td>18.211183</td>\n",
       "      <td>13.111856</td>\n",
       "      <td>26.003136</td>\n",
       "      <td>2</td>\n",
       "      <td>привет как дела гыы отлично тащусь\\n гыы</td>\n",
       "    </tr>\n",
       "    <tr>\n",
       "      <th>4</th>\n",
       "      <td>00ae575033054ce3ba68d2d3e1ba30e2_0</td>\n",
       "      <td>31.003214</td>\n",
       "      <td>8.118344</td>\n",
       "      <td>638.251238</td>\n",
       "      <td>5</td>\n",
       "      <td>йоуйоу как оно норм а у тебя чеееееееееее я ве...</td>\n",
       "    </tr>\n",
       "  </tbody>\n",
       "</table>\n",
       "</div>"
      ],
      "text/plain": [
       "                                   ID   mean_ppl    min_ppl  variance_ppl  \\\n",
       "0  00559a1338f444c18eb301f1c822b483_0  42.042484   6.604987   2403.333671   \n",
       "1  00559a1338f444c18eb301f1c822b483_1   8.317823   7.287766      1.061018   \n",
       "2  007bf899fb5b4a3b8105183d0ca56cfa_0  13.209631  13.209631      0.000000   \n",
       "3  007bf899fb5b4a3b8105183d0ca56cfa_1  18.211183  13.111856     26.003136   \n",
       "4  00ae575033054ce3ba68d2d3e1ba30e2_0  31.003214   8.118344    638.251238   \n",
       "\n",
       "   num_messages                                               text  \n",
       "0             3        квадрокоптth экто квадратный вертолёт харош  \n",
       "1             2  Привет, что это? Понял, я знаю только квадроберов  \n",
       "2             2                                hello а у тебя как?  \n",
       "3             2           привет как дела гыы отлично тащусь\\n гыы  \n",
       "4             5  йоуйоу как оно норм а у тебя чеееееееееее я ве...  "
      ]
     },
     "execution_count": 29,
     "metadata": {},
     "output_type": "execute_result"
    }
   ],
   "source": [
    "ppl_test_df = pd.DataFrame.from_dict(get_features(ppl_test_df, stage=\"val\"))\n",
    "ppl_test_df[\"mean_ppl\"] = ppl_test_df[\"mean_ppl\"].fillna(0)\n",
    "ppl_test_df.head()"
   ]
  },
  {
   "cell_type": "markdown",
   "id": "b15f32f3",
   "metadata": {},
   "source": [
    "### Saving a baseline submission"
   ]
  },
  {
   "cell_type": "code",
   "execution_count": 30,
   "id": "a015ab4c",
   "metadata": {},
   "outputs": [
    {
     "data": {
      "text/html": [
       "<div>\n",
       "<style scoped>\n",
       "    .dataframe tbody tr th:only-of-type {\n",
       "        vertical-align: middle;\n",
       "    }\n",
       "\n",
       "    .dataframe tbody tr th {\n",
       "        vertical-align: top;\n",
       "    }\n",
       "\n",
       "    .dataframe thead th {\n",
       "        text-align: right;\n",
       "    }\n",
       "</style>\n",
       "<table border=\"1\" class=\"dataframe\">\n",
       "  <thead>\n",
       "    <tr style=\"text-align: right;\">\n",
       "      <th></th>\n",
       "      <th>ID</th>\n",
       "      <th>is_bot</th>\n",
       "    </tr>\n",
       "  </thead>\n",
       "  <tbody>\n",
       "    <tr>\n",
       "      <th>0</th>\n",
       "      <td>00559a1338f444c18eb301f1c822b483_0</td>\n",
       "      <td>0.0</td>\n",
       "    </tr>\n",
       "    <tr>\n",
       "      <th>1</th>\n",
       "      <td>00559a1338f444c18eb301f1c822b483_1</td>\n",
       "      <td>1.0</td>\n",
       "    </tr>\n",
       "    <tr>\n",
       "      <th>2</th>\n",
       "      <td>007bf899fb5b4a3b8105183d0ca56cfa_0</td>\n",
       "      <td>0.0</td>\n",
       "    </tr>\n",
       "    <tr>\n",
       "      <th>3</th>\n",
       "      <td>007bf899fb5b4a3b8105183d0ca56cfa_1</td>\n",
       "      <td>0.0</td>\n",
       "    </tr>\n",
       "    <tr>\n",
       "      <th>4</th>\n",
       "      <td>00ae575033054ce3ba68d2d3e1ba30e2_0</td>\n",
       "      <td>0.0</td>\n",
       "    </tr>\n",
       "  </tbody>\n",
       "</table>\n",
       "</div>"
      ],
      "text/plain": [
       "                                   ID  is_bot\n",
       "0  00559a1338f444c18eb301f1c822b483_0     0.0\n",
       "1  00559a1338f444c18eb301f1c822b483_1     1.0\n",
       "2  007bf899fb5b4a3b8105183d0ca56cfa_0     0.0\n",
       "3  007bf899fb5b4a3b8105183d0ca56cfa_1     0.0\n",
       "4  00ae575033054ce3ba68d2d3e1ba30e2_0     0.0"
      ]
     },
     "execution_count": 30,
     "metadata": {},
     "output_type": "execute_result"
    }
   ],
   "source": [
    "submission = ppl_test_df\n",
    "submission[\"is_bot\"] = (submission[\"mean_ppl\"] < best_threshold).astype(float)\n",
    "submission = submission.drop(\n",
    "    columns=[\"mean_ppl\", \"min_ppl\", \"variance_ppl\", \"num_messages\", \"text\"]\n",
    ")\n",
    "submission.head()"
   ]
  },
  {
   "cell_type": "markdown",
   "id": "8b0dcfcd",
   "metadata": {},
   "source": [
    "# Conducting experiments on features and classifiers"
   ]
  },
  {
   "cell_type": "markdown",
   "id": "e14ecd37",
   "metadata": {},
   "source": [
    "## Experiment 1. Ridge regression on perplexities"
   ]
  },
  {
   "cell_type": "code",
   "execution_count": 31,
   "id": "c651dea1",
   "metadata": {},
   "outputs": [
    {
     "data": {
      "text/html": [
       "<div>\n",
       "<style scoped>\n",
       "    .dataframe tbody tr th:only-of-type {\n",
       "        vertical-align: middle;\n",
       "    }\n",
       "\n",
       "    .dataframe tbody tr th {\n",
       "        vertical-align: top;\n",
       "    }\n",
       "\n",
       "    .dataframe thead th {\n",
       "        text-align: right;\n",
       "    }\n",
       "</style>\n",
       "<table border=\"1\" class=\"dataframe\">\n",
       "  <thead>\n",
       "    <tr style=\"text-align: right;\">\n",
       "      <th></th>\n",
       "      <th>ID</th>\n",
       "      <th>is_bot</th>\n",
       "      <th>mean_ppl</th>\n",
       "      <th>min_ppl</th>\n",
       "      <th>variance_ppl</th>\n",
       "      <th>num_messages</th>\n",
       "      <th>text</th>\n",
       "    </tr>\n",
       "  </thead>\n",
       "  <tbody>\n",
       "    <tr>\n",
       "      <th>0</th>\n",
       "      <td>000c0bd4f6554034ae2a050b5d8f6dea_0</td>\n",
       "      <td>1</td>\n",
       "      <td>21.162650</td>\n",
       "      <td>2.044798</td>\n",
       "      <td>2.044453e+02</td>\n",
       "      <td>3</td>\n",
       "      <td>че как? жопа жопа/ жопич жопич</td>\n",
       "    </tr>\n",
       "    <tr>\n",
       "      <th>1</th>\n",
       "      <td>000c0bd4f6554034ae2a050b5d8f6dea_1</td>\n",
       "      <td>0</td>\n",
       "      <td>20.776682</td>\n",
       "      <td>8.613856</td>\n",
       "      <td>1.479343e+02</td>\n",
       "      <td>2</td>\n",
       "      <td>Жопка жопич</td>\n",
       "    </tr>\n",
       "    <tr>\n",
       "      <th>2</th>\n",
       "      <td>009952d565384a69b5ddf1ec76608391_0</td>\n",
       "      <td>0</td>\n",
       "      <td>48.726543</td>\n",
       "      <td>4.470516</td>\n",
       "      <td>1.958596e+03</td>\n",
       "      <td>2</td>\n",
       "      <td>чио рио? да это отсылка, но почему именно на это</td>\n",
       "    </tr>\n",
       "    <tr>\n",
       "      <th>3</th>\n",
       "      <td>009952d565384a69b5ddf1ec76608391_1</td>\n",
       "      <td>1</td>\n",
       "      <td>8.782652</td>\n",
       "      <td>6.232519</td>\n",
       "      <td>6.503177e+00</td>\n",
       "      <td>2</td>\n",
       "      <td>\"Чио Рио\" – это, вероятно, отсылка к популярно...</td>\n",
       "    </tr>\n",
       "    <tr>\n",
       "      <th>4</th>\n",
       "      <td>00a66ccfbb7f42f39da2b641072d5ef6_0</td>\n",
       "      <td>0</td>\n",
       "      <td>1067.864297</td>\n",
       "      <td>13.252675</td>\n",
       "      <td>2.212108e+06</td>\n",
       "      <td>3</td>\n",
       "      <td>I am OpenAI Assistant! опенэйаю ну то и имею</td>\n",
       "    </tr>\n",
       "  </tbody>\n",
       "</table>\n",
       "</div>"
      ],
      "text/plain": [
       "                                   ID  is_bot     mean_ppl    min_ppl  \\\n",
       "0  000c0bd4f6554034ae2a050b5d8f6dea_0       1    21.162650   2.044798   \n",
       "1  000c0bd4f6554034ae2a050b5d8f6dea_1       0    20.776682   8.613856   \n",
       "2  009952d565384a69b5ddf1ec76608391_0       0    48.726543   4.470516   \n",
       "3  009952d565384a69b5ddf1ec76608391_1       1     8.782652   6.232519   \n",
       "4  00a66ccfbb7f42f39da2b641072d5ef6_0       0  1067.864297  13.252675   \n",
       "\n",
       "   variance_ppl  num_messages  \\\n",
       "0  2.044453e+02             3   \n",
       "1  1.479343e+02             2   \n",
       "2  1.958596e+03             2   \n",
       "3  6.503177e+00             2   \n",
       "4  2.212108e+06             3   \n",
       "\n",
       "                                                text  \n",
       "0                     че как? жопа жопа/ жопич жопич  \n",
       "1                                        Жопка жопич  \n",
       "2   чио рио? да это отсылка, но почему именно на это  \n",
       "3  \"Чио Рио\" – это, вероятно, отсылка к популярно...  \n",
       "4       I am OpenAI Assistant! опенэйаю ну то и имею  "
      ]
     },
     "execution_count": 31,
     "metadata": {},
     "output_type": "execute_result"
    }
   ],
   "source": [
    "ppl_train_df.head()"
   ]
  },
  {
   "cell_type": "code",
   "execution_count": 32,
   "id": "3b6a96e5",
   "metadata": {},
   "outputs": [],
   "source": [
    "x = ppl_train_df[\"mean_ppl\"].clip(upper=110).values.reshape(-1, 1)\n",
    "scaler = RobustScaler()\n",
    "x = scaler.fit_transform(x)\n",
    "y = ppl_train_df[\"is_bot\"].values"
   ]
  },
  {
   "cell_type": "code",
   "execution_count": 33,
   "id": "9007b295",
   "metadata": {},
   "outputs": [],
   "source": [
    "x_test = ppl_test_df[\"mean_ppl\"].clip(upper=110).values.reshape(-1, 1)\n",
    "x_test = scaler.fit_transform(x_test)"
   ]
  },
  {
   "cell_type": "code",
   "execution_count": 34,
   "id": "75a05765",
   "metadata": {},
   "outputs": [
    {
     "data": {
      "text/html": [
       "<div>\n",
       "<style scoped>\n",
       "    .dataframe tbody tr th:only-of-type {\n",
       "        vertical-align: middle;\n",
       "    }\n",
       "\n",
       "    .dataframe tbody tr th {\n",
       "        vertical-align: top;\n",
       "    }\n",
       "\n",
       "    .dataframe thead th {\n",
       "        text-align: right;\n",
       "    }\n",
       "</style>\n",
       "<table border=\"1\" class=\"dataframe\">\n",
       "  <thead>\n",
       "    <tr style=\"text-align: right;\">\n",
       "      <th></th>\n",
       "      <th>fit_time</th>\n",
       "      <th>score_time</th>\n",
       "      <th>test_accuracy</th>\n",
       "      <th>train_accuracy</th>\n",
       "      <th>test_roc_auc</th>\n",
       "      <th>train_roc_auc</th>\n",
       "      <th>test_f1</th>\n",
       "      <th>train_f1</th>\n",
       "      <th>test_neg_log_loss</th>\n",
       "      <th>train_neg_log_loss</th>\n",
       "    </tr>\n",
       "  </thead>\n",
       "  <tbody>\n",
       "    <tr>\n",
       "      <th>0</th>\n",
       "      <td>0.005682</td>\n",
       "      <td>0.007751</td>\n",
       "      <td>0.543021</td>\n",
       "      <td>0.498565</td>\n",
       "      <td>0.690557</td>\n",
       "      <td>0.691333</td>\n",
       "      <td>0.544762</td>\n",
       "      <td>0.536283</td>\n",
       "      <td>-0.655757</td>\n",
       "      <td>-0.666753</td>\n",
       "    </tr>\n",
       "    <tr>\n",
       "      <th>1</th>\n",
       "      <td>0.002688</td>\n",
       "      <td>0.006005</td>\n",
       "      <td>0.483748</td>\n",
       "      <td>0.521531</td>\n",
       "      <td>0.712843</td>\n",
       "      <td>0.681079</td>\n",
       "      <td>0.534483</td>\n",
       "      <td>0.545455</td>\n",
       "      <td>-0.671530</td>\n",
       "      <td>-0.664060</td>\n",
       "    </tr>\n",
       "    <tr>\n",
       "      <th>2</th>\n",
       "      <td>0.002779</td>\n",
       "      <td>0.006880</td>\n",
       "      <td>0.501916</td>\n",
       "      <td>0.510516</td>\n",
       "      <td>0.671425</td>\n",
       "      <td>0.700847</td>\n",
       "      <td>0.535714</td>\n",
       "      <td>0.540395</td>\n",
       "      <td>-0.668325</td>\n",
       "      <td>-0.663965</td>\n",
       "    </tr>\n",
       "  </tbody>\n",
       "</table>\n",
       "</div>"
      ],
      "text/plain": [
       "   fit_time  score_time  test_accuracy  train_accuracy  test_roc_auc  \\\n",
       "0  0.005682    0.007751       0.543021        0.498565      0.690557   \n",
       "1  0.002688    0.006005       0.483748        0.521531      0.712843   \n",
       "2  0.002779    0.006880       0.501916        0.510516      0.671425   \n",
       "\n",
       "   train_roc_auc   test_f1  train_f1  test_neg_log_loss  train_neg_log_loss  \n",
       "0       0.691333  0.544762  0.536283          -0.655757           -0.666753  \n",
       "1       0.681079  0.534483  0.545455          -0.671530           -0.664060  \n",
       "2       0.700847  0.535714  0.540395          -0.668325           -0.663965  "
      ]
     },
     "execution_count": 34,
     "metadata": {},
     "output_type": "execute_result"
    }
   ],
   "source": [
    "ridge_logreg = LogisticRegression(penalty=\"l2\", class_weight=\"balanced\")\n",
    "scores = cross_validate(\n",
    "    ridge_logreg,\n",
    "    x,\n",
    "    y,\n",
    "    cv=3,\n",
    "    scoring=(\"accuracy\", \"roc_auc\", \"f1\", \"neg_log_loss\"),\n",
    "    return_train_score=True,\n",
    ")\n",
    "pd.DataFrame.from_dict(scores)"
   ]
  },
  {
   "cell_type": "markdown",
   "id": "03b6e6db",
   "metadata": {},
   "source": [
    "## Experiment 2. Random forest on perplexities"
   ]
  },
  {
   "cell_type": "code",
   "execution_count": 35,
   "id": "25d14a7e",
   "metadata": {},
   "outputs": [
    {
     "data": {
      "text/html": [
       "<div>\n",
       "<style scoped>\n",
       "    .dataframe tbody tr th:only-of-type {\n",
       "        vertical-align: middle;\n",
       "    }\n",
       "\n",
       "    .dataframe tbody tr th {\n",
       "        vertical-align: top;\n",
       "    }\n",
       "\n",
       "    .dataframe thead th {\n",
       "        text-align: right;\n",
       "    }\n",
       "</style>\n",
       "<table border=\"1\" class=\"dataframe\">\n",
       "  <thead>\n",
       "    <tr style=\"text-align: right;\">\n",
       "      <th></th>\n",
       "      <th>fit_time</th>\n",
       "      <th>score_time</th>\n",
       "      <th>test_accuracy</th>\n",
       "      <th>train_accuracy</th>\n",
       "      <th>test_roc_auc</th>\n",
       "      <th>train_roc_auc</th>\n",
       "      <th>test_f1</th>\n",
       "      <th>train_f1</th>\n",
       "      <th>test_neg_log_loss</th>\n",
       "      <th>train_neg_log_loss</th>\n",
       "    </tr>\n",
       "  </thead>\n",
       "  <tbody>\n",
       "    <tr>\n",
       "      <th>0</th>\n",
       "      <td>0.173018</td>\n",
       "      <td>0.021707</td>\n",
       "      <td>0.717017</td>\n",
       "      <td>0.690909</td>\n",
       "      <td>0.683463</td>\n",
       "      <td>0.749736</td>\n",
       "      <td>0.581921</td>\n",
       "      <td>0.585366</td>\n",
       "      <td>-0.606723</td>\n",
       "      <td>-0.601150</td>\n",
       "    </tr>\n",
       "    <tr>\n",
       "      <th>1</th>\n",
       "      <td>0.145435</td>\n",
       "      <td>0.019063</td>\n",
       "      <td>0.688337</td>\n",
       "      <td>0.700478</td>\n",
       "      <td>0.683895</td>\n",
       "      <td>0.751821</td>\n",
       "      <td>0.595533</td>\n",
       "      <td>0.575305</td>\n",
       "      <td>-0.649944</td>\n",
       "      <td>-0.594886</td>\n",
       "    </tr>\n",
       "    <tr>\n",
       "      <th>2</th>\n",
       "      <td>0.134454</td>\n",
       "      <td>0.018338</td>\n",
       "      <td>0.687739</td>\n",
       "      <td>0.707457</td>\n",
       "      <td>0.675188</td>\n",
       "      <td>0.760184</td>\n",
       "      <td>0.560647</td>\n",
       "      <td>0.585366</td>\n",
       "      <td>-0.635336</td>\n",
       "      <td>-0.594829</td>\n",
       "    </tr>\n",
       "  </tbody>\n",
       "</table>\n",
       "</div>"
      ],
      "text/plain": [
       "   fit_time  score_time  test_accuracy  train_accuracy  test_roc_auc  \\\n",
       "0  0.173018    0.021707       0.717017        0.690909      0.683463   \n",
       "1  0.145435    0.019063       0.688337        0.700478      0.683895   \n",
       "2  0.134454    0.018338       0.687739        0.707457      0.675188   \n",
       "\n",
       "   train_roc_auc   test_f1  train_f1  test_neg_log_loss  train_neg_log_loss  \n",
       "0       0.749736  0.581921  0.585366          -0.606723           -0.601150  \n",
       "1       0.751821  0.595533  0.575305          -0.649944           -0.594886  \n",
       "2       0.760184  0.560647  0.585366          -0.635336           -0.594829  "
      ]
     },
     "execution_count": 35,
     "metadata": {},
     "output_type": "execute_result"
    }
   ],
   "source": [
    "forest_clf = RandomForestClassifier(class_weight=\"balanced\", max_depth=3)\n",
    "scores = cross_validate(\n",
    "    forest_clf,\n",
    "    x,\n",
    "    y,\n",
    "    cv=3,\n",
    "    scoring=(\"accuracy\", \"roc_auc\", \"f1\", \"neg_log_loss\"),\n",
    "    return_train_score=True,\n",
    ")\n",
    "pd.DataFrame.from_dict(scores)"
   ]
  },
  {
   "cell_type": "code",
   "execution_count": 36,
   "id": "0dfb5eeb",
   "metadata": {},
   "outputs": [],
   "source": [
    "forest_clf.fit(x, y)\n",
    "probas = forest_clf.predict_proba(x_test)"
   ]
  },
  {
   "cell_type": "code",
   "execution_count": 37,
   "id": "bffd2cb2",
   "metadata": {},
   "outputs": [
    {
     "data": {
      "text/html": [
       "<div>\n",
       "<style scoped>\n",
       "    .dataframe tbody tr th:only-of-type {\n",
       "        vertical-align: middle;\n",
       "    }\n",
       "\n",
       "    .dataframe tbody tr th {\n",
       "        vertical-align: top;\n",
       "    }\n",
       "\n",
       "    .dataframe thead th {\n",
       "        text-align: right;\n",
       "    }\n",
       "</style>\n",
       "<table border=\"1\" class=\"dataframe\">\n",
       "  <thead>\n",
       "    <tr style=\"text-align: right;\">\n",
       "      <th></th>\n",
       "      <th>ID</th>\n",
       "      <th>min_ppl</th>\n",
       "      <th>variance_ppl</th>\n",
       "      <th>num_messages</th>\n",
       "      <th>is_bot</th>\n",
       "    </tr>\n",
       "  </thead>\n",
       "  <tbody>\n",
       "    <tr>\n",
       "      <th>0</th>\n",
       "      <td>00559a1338f444c18eb301f1c822b483_0</td>\n",
       "      <td>6.604987</td>\n",
       "      <td>2403.333671</td>\n",
       "      <td>3</td>\n",
       "      <td>0.381795</td>\n",
       "    </tr>\n",
       "    <tr>\n",
       "      <th>1</th>\n",
       "      <td>00559a1338f444c18eb301f1c822b483_1</td>\n",
       "      <td>7.287766</td>\n",
       "      <td>1.061018</td>\n",
       "      <td>2</td>\n",
       "      <td>0.703584</td>\n",
       "    </tr>\n",
       "    <tr>\n",
       "      <th>2</th>\n",
       "      <td>007bf899fb5b4a3b8105183d0ca56cfa_0</td>\n",
       "      <td>13.209631</td>\n",
       "      <td>0.000000</td>\n",
       "      <td>2</td>\n",
       "      <td>0.300682</td>\n",
       "    </tr>\n",
       "    <tr>\n",
       "      <th>3</th>\n",
       "      <td>007bf899fb5b4a3b8105183d0ca56cfa_1</td>\n",
       "      <td>13.111856</td>\n",
       "      <td>26.003136</td>\n",
       "      <td>2</td>\n",
       "      <td>0.312196</td>\n",
       "    </tr>\n",
       "    <tr>\n",
       "      <th>4</th>\n",
       "      <td>00ae575033054ce3ba68d2d3e1ba30e2_0</td>\n",
       "      <td>8.118344</td>\n",
       "      <td>638.251238</td>\n",
       "      <td>5</td>\n",
       "      <td>0.361455</td>\n",
       "    </tr>\n",
       "  </tbody>\n",
       "</table>\n",
       "</div>"
      ],
      "text/plain": [
       "                                   ID    min_ppl  variance_ppl  num_messages  \\\n",
       "0  00559a1338f444c18eb301f1c822b483_0   6.604987   2403.333671             3   \n",
       "1  00559a1338f444c18eb301f1c822b483_1   7.287766      1.061018             2   \n",
       "2  007bf899fb5b4a3b8105183d0ca56cfa_0  13.209631      0.000000             2   \n",
       "3  007bf899fb5b4a3b8105183d0ca56cfa_1  13.111856     26.003136             2   \n",
       "4  00ae575033054ce3ba68d2d3e1ba30e2_0   8.118344    638.251238             5   \n",
       "\n",
       "     is_bot  \n",
       "0  0.381795  \n",
       "1  0.703584  \n",
       "2  0.300682  \n",
       "3  0.312196  \n",
       "4  0.361455  "
      ]
     },
     "execution_count": 37,
     "metadata": {},
     "output_type": "execute_result"
    }
   ],
   "source": [
    "submission = ppl_test_df\n",
    "submission[\"is_bot\"] = probas[:, 1]\n",
    "submission = submission.drop(columns=[\"mean_ppl\", \"text\"])\n",
    "submission.head()"
   ]
  },
  {
   "cell_type": "markdown",
   "id": "6a78fbf0",
   "metadata": {},
   "source": [
    "## Experiment 3. Extracting message embeddings and training random forest both on perplexities and embeddings"
   ]
  },
  {
   "cell_type": "code",
   "execution_count": 38,
   "id": "6abb4b05",
   "metadata": {},
   "outputs": [],
   "source": [
    "model = SentenceTransformer(\"all-MiniLM-L6-v2\")"
   ]
  },
  {
   "cell_type": "code",
   "execution_count": 39,
   "id": "5c8b6eee",
   "metadata": {},
   "outputs": [],
   "source": [
    "train_texts = ppl_train_df[\"text\"].values\n",
    "train_embeddings = model.encode(train_texts)"
   ]
  },
  {
   "cell_type": "code",
   "execution_count": 40,
   "id": "5509bb0a",
   "metadata": {},
   "outputs": [
    {
     "data": {
      "text/plain": [
       "(1568, 385)"
      ]
     },
     "execution_count": 40,
     "metadata": {},
     "output_type": "execute_result"
    }
   ],
   "source": [
    "train_ppls = ppl_train_df[\"mean_ppl\"].values.reshape(-1, 1)\n",
    "x = np.hstack([train_ppls, train_embeddings])\n",
    "x.shape"
   ]
  },
  {
   "cell_type": "markdown",
   "id": "0dabfba9",
   "metadata": {},
   "source": [
    "Reducing embeddins size from 384 to 50 using PCA decomposition significantly improved performance"
   ]
  },
  {
   "cell_type": "code",
   "execution_count": 41,
   "id": "5760a37c",
   "metadata": {},
   "outputs": [],
   "source": [
    "def print_metrics(scores: dict):\n",
    "    print(\"Train scores:\")\n",
    "    print(f\"Accuracy: {np.mean(scores['train_accuracy']):.4f}\")\n",
    "    print(f\"ROC AUC: {np.mean(scores['train_roc_auc']):.4f}\")\n",
    "    print(f\"F1: {np.mean(scores['train_f1']):.4f}\")\n",
    "    print(f\"Log Loss: {-np.mean(scores['train_neg_log_loss']):.4f}\")\n",
    "\n",
    "    print(\"\\nValidation scores:\")\n",
    "    print(f\"Accuracy: {np.mean(scores['test_accuracy']):.4f}\")\n",
    "    print(f\"ROC AUC: {np.mean(scores['test_roc_auc']):.4f}\")\n",
    "    print(f\"F1: {np.mean(scores['test_f1']):.4f}\")\n",
    "    print(f\"Log Loss: {-np.mean(scores['test_neg_log_loss']):.4f}\")"
   ]
  },
  {
   "cell_type": "code",
   "execution_count": 42,
   "id": "264cc001",
   "metadata": {},
   "outputs": [
    {
     "name": "stdout",
     "output_type": "stream",
     "text": [
      "Train scores:\n",
      "Accuracy: 0.9919\n",
      "ROC AUC: 0.9996\n",
      "F1: 0.9882\n",
      "Log Loss: 0.2420\n",
      "\n",
      "Validation scores:\n",
      "Accuracy: 0.7519\n",
      "ROC AUC: 0.7943\n",
      "F1: 0.5520\n",
      "Log Loss: 0.5284\n"
     ]
    }
   ],
   "source": [
    "perplexities = ppl_train_df[\"mean_ppl\"].values.reshape(-1, 1)\n",
    "X = np.hstack([perplexities, train_embeddings])\n",
    "y = ppl_train_df[\"is_bot\"].values\n",
    "\n",
    "\n",
    "pipeline = Pipeline(\n",
    "    [\n",
    "        (\"pca\", PCA(n_components=50)),\n",
    "        (\"classifier\", RandomForestClassifier(class_weight=\"balanced\", max_depth=10)),\n",
    "    ]\n",
    ")\n",
    "\n",
    "\n",
    "cv = StratifiedKFold(n_splits=5, shuffle=True, random_state=42)\n",
    "\n",
    "scores = cross_validate(\n",
    "    pipeline,\n",
    "    X,\n",
    "    y,\n",
    "    cv=cv,\n",
    "    scoring=(\"accuracy\", \"roc_auc\", \"f1\", \"neg_log_loss\"),\n",
    "    return_train_score=True,\n",
    ")\n",
    "\n",
    "print_metrics(scores)"
   ]
  },
  {
   "cell_type": "code",
   "execution_count": 43,
   "id": "e262b23e",
   "metadata": {},
   "outputs": [],
   "source": [
    "test_ppls = ppl_test_df[\"mean_ppl\"].values.reshape(-1, 1)\n",
    "test_texts = ppl_test_df[\"text\"].values\n",
    "test_embeddings = model.encode(test_texts)"
   ]
  },
  {
   "cell_type": "code",
   "execution_count": 44,
   "id": "ed59ecee",
   "metadata": {},
   "outputs": [],
   "source": [
    "x_test = np.hstack([test_ppls, test_embeddings])\n",
    "pipeline.fit(X, y)\n",
    "probas = pipeline.predict_proba(x_test)"
   ]
  },
  {
   "cell_type": "code",
   "execution_count": 45,
   "id": "2f1d9793",
   "metadata": {},
   "outputs": [
    {
     "data": {
      "text/html": [
       "<div>\n",
       "<style scoped>\n",
       "    .dataframe tbody tr th:only-of-type {\n",
       "        vertical-align: middle;\n",
       "    }\n",
       "\n",
       "    .dataframe tbody tr th {\n",
       "        vertical-align: top;\n",
       "    }\n",
       "\n",
       "    .dataframe thead th {\n",
       "        text-align: right;\n",
       "    }\n",
       "</style>\n",
       "<table border=\"1\" class=\"dataframe\">\n",
       "  <thead>\n",
       "    <tr style=\"text-align: right;\">\n",
       "      <th></th>\n",
       "      <th>ID</th>\n",
       "      <th>min_ppl</th>\n",
       "      <th>variance_ppl</th>\n",
       "      <th>num_messages</th>\n",
       "      <th>is_bot</th>\n",
       "    </tr>\n",
       "  </thead>\n",
       "  <tbody>\n",
       "    <tr>\n",
       "      <th>0</th>\n",
       "      <td>00559a1338f444c18eb301f1c822b483_0</td>\n",
       "      <td>6.604987</td>\n",
       "      <td>2403.333671</td>\n",
       "      <td>3</td>\n",
       "      <td>0.148317</td>\n",
       "    </tr>\n",
       "    <tr>\n",
       "      <th>1</th>\n",
       "      <td>00559a1338f444c18eb301f1c822b483_1</td>\n",
       "      <td>7.287766</td>\n",
       "      <td>1.061018</td>\n",
       "      <td>2</td>\n",
       "      <td>0.494116</td>\n",
       "    </tr>\n",
       "    <tr>\n",
       "      <th>2</th>\n",
       "      <td>007bf899fb5b4a3b8105183d0ca56cfa_0</td>\n",
       "      <td>13.209631</td>\n",
       "      <td>0.000000</td>\n",
       "      <td>2</td>\n",
       "      <td>0.305636</td>\n",
       "    </tr>\n",
       "    <tr>\n",
       "      <th>3</th>\n",
       "      <td>007bf899fb5b4a3b8105183d0ca56cfa_1</td>\n",
       "      <td>13.111856</td>\n",
       "      <td>26.003136</td>\n",
       "      <td>2</td>\n",
       "      <td>0.113025</td>\n",
       "    </tr>\n",
       "    <tr>\n",
       "      <th>4</th>\n",
       "      <td>00ae575033054ce3ba68d2d3e1ba30e2_0</td>\n",
       "      <td>8.118344</td>\n",
       "      <td>638.251238</td>\n",
       "      <td>5</td>\n",
       "      <td>0.438642</td>\n",
       "    </tr>\n",
       "  </tbody>\n",
       "</table>\n",
       "</div>"
      ],
      "text/plain": [
       "                                   ID    min_ppl  variance_ppl  num_messages  \\\n",
       "0  00559a1338f444c18eb301f1c822b483_0   6.604987   2403.333671             3   \n",
       "1  00559a1338f444c18eb301f1c822b483_1   7.287766      1.061018             2   \n",
       "2  007bf899fb5b4a3b8105183d0ca56cfa_0  13.209631      0.000000             2   \n",
       "3  007bf899fb5b4a3b8105183d0ca56cfa_1  13.111856     26.003136             2   \n",
       "4  00ae575033054ce3ba68d2d3e1ba30e2_0   8.118344    638.251238             5   \n",
       "\n",
       "     is_bot  \n",
       "0  0.148317  \n",
       "1  0.494116  \n",
       "2  0.305636  \n",
       "3  0.113025  \n",
       "4  0.438642  "
      ]
     },
     "execution_count": 45,
     "metadata": {},
     "output_type": "execute_result"
    }
   ],
   "source": [
    "submission = ppl_test_df\n",
    "submission[\"is_bot\"] = probas[:, 1]\n",
    "submission = submission.drop(columns=[\"mean_ppl\", \"text\"])\n",
    "submission.head()"
   ]
  },
  {
   "cell_type": "markdown",
   "id": "89d0e073",
   "metadata": {},
   "source": [
    "## Experiment 4. Using bossting instead of random forest"
   ]
  },
  {
   "cell_type": "code",
   "execution_count": 46,
   "id": "bce5e5b6",
   "metadata": {},
   "outputs": [],
   "source": [
    "cat_model = CatBoostClassifier(\n",
    "    iterations=300,\n",
    "    learning_rate=0.05,\n",
    "    depth=3,\n",
    "    loss_function=\"Logloss\",\n",
    "    eval_metric=\"Logloss\",\n",
    "    random_seed=42,\n",
    "    verbose=100,\n",
    "    class_weights=[2, 3],\n",
    "    early_stopping_rounds=100,\n",
    "    task_type=\"GPU\",\n",
    ")"
   ]
  },
  {
   "cell_type": "code",
   "execution_count": 47,
   "id": "579e298e",
   "metadata": {},
   "outputs": [
    {
     "name": "stderr",
     "output_type": "stream",
     "text": [
      "Warning: less than 75% GPU memory available for training. Free: 828 Total: 1863.6875\n"
     ]
    },
    {
     "name": "stdout",
     "output_type": "stream",
     "text": [
      "0:\tlearn: 0.6852262\ttotal: 50.1ms\tremaining: 15s\n",
      "100:\tlearn: 0.4773886\ttotal: 290ms\tremaining: 571ms\n",
      "200:\tlearn: 0.4007415\ttotal: 511ms\tremaining: 252ms\n",
      "299:\tlearn: 0.3454197\ttotal: 715ms\tremaining: 0us\n"
     ]
    },
    {
     "name": "stderr",
     "output_type": "stream",
     "text": [
      "Warning: less than 75% GPU memory available for training. Free: 828 Total: 1863.6875\n"
     ]
    },
    {
     "name": "stdout",
     "output_type": "stream",
     "text": [
      "0:\tlearn: 0.6829000\ttotal: 4.95ms\tremaining: 1.48s\n",
      "100:\tlearn: 0.4781197\ttotal: 232ms\tremaining: 458ms\n",
      "200:\tlearn: 0.4054587\ttotal: 451ms\tremaining: 222ms\n",
      "299:\tlearn: 0.3492410\ttotal: 659ms\tremaining: 0us\n"
     ]
    },
    {
     "name": "stderr",
     "output_type": "stream",
     "text": [
      "Warning: less than 75% GPU memory available for training. Free: 828 Total: 1863.6875\n"
     ]
    },
    {
     "name": "stdout",
     "output_type": "stream",
     "text": [
      "0:\tlearn: 0.6833631\ttotal: 4.3ms\tremaining: 1.28s\n",
      "100:\tlearn: 0.4813077\ttotal: 261ms\tremaining: 514ms\n",
      "200:\tlearn: 0.4050438\ttotal: 502ms\tremaining: 247ms\n",
      "299:\tlearn: 0.3485928\ttotal: 728ms\tremaining: 0us\n"
     ]
    },
    {
     "name": "stderr",
     "output_type": "stream",
     "text": [
      "Warning: less than 75% GPU memory available for training. Free: 828 Total: 1863.6875\n"
     ]
    },
    {
     "name": "stdout",
     "output_type": "stream",
     "text": [
      "0:\tlearn: 0.6833999\ttotal: 4.75ms\tremaining: 1.42s\n",
      "100:\tlearn: 0.4828039\ttotal: 234ms\tremaining: 461ms\n",
      "200:\tlearn: 0.4105989\ttotal: 449ms\tremaining: 221ms\n",
      "299:\tlearn: 0.3554629\ttotal: 652ms\tremaining: 0us\n"
     ]
    },
    {
     "name": "stderr",
     "output_type": "stream",
     "text": [
      "Warning: less than 75% GPU memory available for training. Free: 828 Total: 1863.6875\n"
     ]
    },
    {
     "name": "stdout",
     "output_type": "stream",
     "text": [
      "0:\tlearn: 0.6831213\ttotal: 3.58ms\tremaining: 1.07s\n",
      "100:\tlearn: 0.4832888\ttotal: 231ms\tremaining: 455ms\n",
      "200:\tlearn: 0.4107928\ttotal: 449ms\tremaining: 221ms\n",
      "299:\tlearn: 0.3562640\ttotal: 659ms\tremaining: 0us\n",
      "Train scores:\n",
      "Accuracy: 0.9013\n",
      "ROC AUC: 0.9642\n",
      "F1: 0.8538\n",
      "Log Loss: 0.3445\n",
      "\n",
      "Validation scores:\n",
      "Accuracy: 0.7602\n",
      "ROC AUC: 0.8008\n",
      "F1: 0.6366\n",
      "Log Loss: 0.5139\n"
     ]
    }
   ],
   "source": [
    "perplexities = ppl_train_df[\"mean_ppl\"].values.reshape(-1, 1)\n",
    "X = np.hstack([perplexities, train_embeddings])\n",
    "y = ppl_train_df[\"is_bot\"].values\n",
    "\n",
    "\n",
    "pipeline = Pipeline(\n",
    "    [\n",
    "        (\"pca\", PCA(n_components=50)),\n",
    "        (\"classifier\", cat_model),\n",
    "    ]\n",
    ")\n",
    "\n",
    "\n",
    "cv = StratifiedKFold(n_splits=5, shuffle=True, random_state=42)\n",
    "\n",
    "scores = cross_validate(\n",
    "    pipeline,\n",
    "    X,\n",
    "    y,\n",
    "    cv=cv,\n",
    "    scoring=(\"accuracy\", \"roc_auc\", \"f1\", \"neg_log_loss\"),\n",
    "    return_train_score=True,\n",
    ")\n",
    "\n",
    "\n",
    "print_metrics(scores)"
   ]
  },
  {
   "cell_type": "code",
   "execution_count": 48,
   "id": "9c834ab4",
   "metadata": {},
   "outputs": [
    {
     "name": "stderr",
     "output_type": "stream",
     "text": [
      "Warning: less than 75% GPU memory available for training. Free: 828 Total: 1863.6875\n"
     ]
    },
    {
     "name": "stdout",
     "output_type": "stream",
     "text": [
      "0:\tlearn: 0.6835206\ttotal: 3.89ms\tremaining: 1.16s\n",
      "100:\tlearn: 0.4932944\ttotal: 256ms\tremaining: 505ms\n",
      "200:\tlearn: 0.4255354\ttotal: 481ms\tremaining: 237ms\n",
      "299:\tlearn: 0.3736149\ttotal: 700ms\tremaining: 0us\n"
     ]
    },
    {
     "data": {
      "text/html": [
       "<style>#sk-container-id-1 {\n",
       "  /* Definition of color scheme common for light and dark mode */\n",
       "  --sklearn-color-text: #000;\n",
       "  --sklearn-color-text-muted: #666;\n",
       "  --sklearn-color-line: gray;\n",
       "  /* Definition of color scheme for unfitted estimators */\n",
       "  --sklearn-color-unfitted-level-0: #fff5e6;\n",
       "  --sklearn-color-unfitted-level-1: #f6e4d2;\n",
       "  --sklearn-color-unfitted-level-2: #ffe0b3;\n",
       "  --sklearn-color-unfitted-level-3: chocolate;\n",
       "  /* Definition of color scheme for fitted estimators */\n",
       "  --sklearn-color-fitted-level-0: #f0f8ff;\n",
       "  --sklearn-color-fitted-level-1: #d4ebff;\n",
       "  --sklearn-color-fitted-level-2: #b3dbfd;\n",
       "  --sklearn-color-fitted-level-3: cornflowerblue;\n",
       "\n",
       "  /* Specific color for light theme */\n",
       "  --sklearn-color-text-on-default-background: var(--sg-text-color, var(--theme-code-foreground, var(--jp-content-font-color1, black)));\n",
       "  --sklearn-color-background: var(--sg-background-color, var(--theme-background, var(--jp-layout-color0, white)));\n",
       "  --sklearn-color-border-box: var(--sg-text-color, var(--theme-code-foreground, var(--jp-content-font-color1, black)));\n",
       "  --sklearn-color-icon: #696969;\n",
       "\n",
       "  @media (prefers-color-scheme: dark) {\n",
       "    /* Redefinition of color scheme for dark theme */\n",
       "    --sklearn-color-text-on-default-background: var(--sg-text-color, var(--theme-code-foreground, var(--jp-content-font-color1, white)));\n",
       "    --sklearn-color-background: var(--sg-background-color, var(--theme-background, var(--jp-layout-color0, #111)));\n",
       "    --sklearn-color-border-box: var(--sg-text-color, var(--theme-code-foreground, var(--jp-content-font-color1, white)));\n",
       "    --sklearn-color-icon: #878787;\n",
       "  }\n",
       "}\n",
       "\n",
       "#sk-container-id-1 {\n",
       "  color: var(--sklearn-color-text);\n",
       "}\n",
       "\n",
       "#sk-container-id-1 pre {\n",
       "  padding: 0;\n",
       "}\n",
       "\n",
       "#sk-container-id-1 input.sk-hidden--visually {\n",
       "  border: 0;\n",
       "  clip: rect(1px 1px 1px 1px);\n",
       "  clip: rect(1px, 1px, 1px, 1px);\n",
       "  height: 1px;\n",
       "  margin: -1px;\n",
       "  overflow: hidden;\n",
       "  padding: 0;\n",
       "  position: absolute;\n",
       "  width: 1px;\n",
       "}\n",
       "\n",
       "#sk-container-id-1 div.sk-dashed-wrapped {\n",
       "  border: 1px dashed var(--sklearn-color-line);\n",
       "  margin: 0 0.4em 0.5em 0.4em;\n",
       "  box-sizing: border-box;\n",
       "  padding-bottom: 0.4em;\n",
       "  background-color: var(--sklearn-color-background);\n",
       "}\n",
       "\n",
       "#sk-container-id-1 div.sk-container {\n",
       "  /* jupyter's `normalize.less` sets `[hidden] { display: none; }`\n",
       "     but bootstrap.min.css set `[hidden] { display: none !important; }`\n",
       "     so we also need the `!important` here to be able to override the\n",
       "     default hidden behavior on the sphinx rendered scikit-learn.org.\n",
       "     See: https://github.com/scikit-learn/scikit-learn/issues/21755 */\n",
       "  display: inline-block !important;\n",
       "  position: relative;\n",
       "}\n",
       "\n",
       "#sk-container-id-1 div.sk-text-repr-fallback {\n",
       "  display: none;\n",
       "}\n",
       "\n",
       "div.sk-parallel-item,\n",
       "div.sk-serial,\n",
       "div.sk-item {\n",
       "  /* draw centered vertical line to link estimators */\n",
       "  background-image: linear-gradient(var(--sklearn-color-text-on-default-background), var(--sklearn-color-text-on-default-background));\n",
       "  background-size: 2px 100%;\n",
       "  background-repeat: no-repeat;\n",
       "  background-position: center center;\n",
       "}\n",
       "\n",
       "/* Parallel-specific style estimator block */\n",
       "\n",
       "#sk-container-id-1 div.sk-parallel-item::after {\n",
       "  content: \"\";\n",
       "  width: 100%;\n",
       "  border-bottom: 2px solid var(--sklearn-color-text-on-default-background);\n",
       "  flex-grow: 1;\n",
       "}\n",
       "\n",
       "#sk-container-id-1 div.sk-parallel {\n",
       "  display: flex;\n",
       "  align-items: stretch;\n",
       "  justify-content: center;\n",
       "  background-color: var(--sklearn-color-background);\n",
       "  position: relative;\n",
       "}\n",
       "\n",
       "#sk-container-id-1 div.sk-parallel-item {\n",
       "  display: flex;\n",
       "  flex-direction: column;\n",
       "}\n",
       "\n",
       "#sk-container-id-1 div.sk-parallel-item:first-child::after {\n",
       "  align-self: flex-end;\n",
       "  width: 50%;\n",
       "}\n",
       "\n",
       "#sk-container-id-1 div.sk-parallel-item:last-child::after {\n",
       "  align-self: flex-start;\n",
       "  width: 50%;\n",
       "}\n",
       "\n",
       "#sk-container-id-1 div.sk-parallel-item:only-child::after {\n",
       "  width: 0;\n",
       "}\n",
       "\n",
       "/* Serial-specific style estimator block */\n",
       "\n",
       "#sk-container-id-1 div.sk-serial {\n",
       "  display: flex;\n",
       "  flex-direction: column;\n",
       "  align-items: center;\n",
       "  background-color: var(--sklearn-color-background);\n",
       "  padding-right: 1em;\n",
       "  padding-left: 1em;\n",
       "}\n",
       "\n",
       "\n",
       "/* Toggleable style: style used for estimator/Pipeline/ColumnTransformer box that is\n",
       "clickable and can be expanded/collapsed.\n",
       "- Pipeline and ColumnTransformer use this feature and define the default style\n",
       "- Estimators will overwrite some part of the style using the `sk-estimator` class\n",
       "*/\n",
       "\n",
       "/* Pipeline and ColumnTransformer style (default) */\n",
       "\n",
       "#sk-container-id-1 div.sk-toggleable {\n",
       "  /* Default theme specific background. It is overwritten whether we have a\n",
       "  specific estimator or a Pipeline/ColumnTransformer */\n",
       "  background-color: var(--sklearn-color-background);\n",
       "}\n",
       "\n",
       "/* Toggleable label */\n",
       "#sk-container-id-1 label.sk-toggleable__label {\n",
       "  cursor: pointer;\n",
       "  display: flex;\n",
       "  width: 100%;\n",
       "  margin-bottom: 0;\n",
       "  padding: 0.5em;\n",
       "  box-sizing: border-box;\n",
       "  text-align: center;\n",
       "  align-items: start;\n",
       "  justify-content: space-between;\n",
       "  gap: 0.5em;\n",
       "}\n",
       "\n",
       "#sk-container-id-1 label.sk-toggleable__label .caption {\n",
       "  font-size: 0.6rem;\n",
       "  font-weight: lighter;\n",
       "  color: var(--sklearn-color-text-muted);\n",
       "}\n",
       "\n",
       "#sk-container-id-1 label.sk-toggleable__label-arrow:before {\n",
       "  /* Arrow on the left of the label */\n",
       "  content: \"▸\";\n",
       "  float: left;\n",
       "  margin-right: 0.25em;\n",
       "  color: var(--sklearn-color-icon);\n",
       "}\n",
       "\n",
       "#sk-container-id-1 label.sk-toggleable__label-arrow:hover:before {\n",
       "  color: var(--sklearn-color-text);\n",
       "}\n",
       "\n",
       "/* Toggleable content - dropdown */\n",
       "\n",
       "#sk-container-id-1 div.sk-toggleable__content {\n",
       "  max-height: 0;\n",
       "  max-width: 0;\n",
       "  overflow: hidden;\n",
       "  text-align: left;\n",
       "  /* unfitted */\n",
       "  background-color: var(--sklearn-color-unfitted-level-0);\n",
       "}\n",
       "\n",
       "#sk-container-id-1 div.sk-toggleable__content.fitted {\n",
       "  /* fitted */\n",
       "  background-color: var(--sklearn-color-fitted-level-0);\n",
       "}\n",
       "\n",
       "#sk-container-id-1 div.sk-toggleable__content pre {\n",
       "  margin: 0.2em;\n",
       "  border-radius: 0.25em;\n",
       "  color: var(--sklearn-color-text);\n",
       "  /* unfitted */\n",
       "  background-color: var(--sklearn-color-unfitted-level-0);\n",
       "}\n",
       "\n",
       "#sk-container-id-1 div.sk-toggleable__content.fitted pre {\n",
       "  /* unfitted */\n",
       "  background-color: var(--sklearn-color-fitted-level-0);\n",
       "}\n",
       "\n",
       "#sk-container-id-1 input.sk-toggleable__control:checked~div.sk-toggleable__content {\n",
       "  /* Expand drop-down */\n",
       "  max-height: 200px;\n",
       "  max-width: 100%;\n",
       "  overflow: auto;\n",
       "}\n",
       "\n",
       "#sk-container-id-1 input.sk-toggleable__control:checked~label.sk-toggleable__label-arrow:before {\n",
       "  content: \"▾\";\n",
       "}\n",
       "\n",
       "/* Pipeline/ColumnTransformer-specific style */\n",
       "\n",
       "#sk-container-id-1 div.sk-label input.sk-toggleable__control:checked~label.sk-toggleable__label {\n",
       "  color: var(--sklearn-color-text);\n",
       "  background-color: var(--sklearn-color-unfitted-level-2);\n",
       "}\n",
       "\n",
       "#sk-container-id-1 div.sk-label.fitted input.sk-toggleable__control:checked~label.sk-toggleable__label {\n",
       "  background-color: var(--sklearn-color-fitted-level-2);\n",
       "}\n",
       "\n",
       "/* Estimator-specific style */\n",
       "\n",
       "/* Colorize estimator box */\n",
       "#sk-container-id-1 div.sk-estimator input.sk-toggleable__control:checked~label.sk-toggleable__label {\n",
       "  /* unfitted */\n",
       "  background-color: var(--sklearn-color-unfitted-level-2);\n",
       "}\n",
       "\n",
       "#sk-container-id-1 div.sk-estimator.fitted input.sk-toggleable__control:checked~label.sk-toggleable__label {\n",
       "  /* fitted */\n",
       "  background-color: var(--sklearn-color-fitted-level-2);\n",
       "}\n",
       "\n",
       "#sk-container-id-1 div.sk-label label.sk-toggleable__label,\n",
       "#sk-container-id-1 div.sk-label label {\n",
       "  /* The background is the default theme color */\n",
       "  color: var(--sklearn-color-text-on-default-background);\n",
       "}\n",
       "\n",
       "/* On hover, darken the color of the background */\n",
       "#sk-container-id-1 div.sk-label:hover label.sk-toggleable__label {\n",
       "  color: var(--sklearn-color-text);\n",
       "  background-color: var(--sklearn-color-unfitted-level-2);\n",
       "}\n",
       "\n",
       "/* Label box, darken color on hover, fitted */\n",
       "#sk-container-id-1 div.sk-label.fitted:hover label.sk-toggleable__label.fitted {\n",
       "  color: var(--sklearn-color-text);\n",
       "  background-color: var(--sklearn-color-fitted-level-2);\n",
       "}\n",
       "\n",
       "/* Estimator label */\n",
       "\n",
       "#sk-container-id-1 div.sk-label label {\n",
       "  font-family: monospace;\n",
       "  font-weight: bold;\n",
       "  display: inline-block;\n",
       "  line-height: 1.2em;\n",
       "}\n",
       "\n",
       "#sk-container-id-1 div.sk-label-container {\n",
       "  text-align: center;\n",
       "}\n",
       "\n",
       "/* Estimator-specific */\n",
       "#sk-container-id-1 div.sk-estimator {\n",
       "  font-family: monospace;\n",
       "  border: 1px dotted var(--sklearn-color-border-box);\n",
       "  border-radius: 0.25em;\n",
       "  box-sizing: border-box;\n",
       "  margin-bottom: 0.5em;\n",
       "  /* unfitted */\n",
       "  background-color: var(--sklearn-color-unfitted-level-0);\n",
       "}\n",
       "\n",
       "#sk-container-id-1 div.sk-estimator.fitted {\n",
       "  /* fitted */\n",
       "  background-color: var(--sklearn-color-fitted-level-0);\n",
       "}\n",
       "\n",
       "/* on hover */\n",
       "#sk-container-id-1 div.sk-estimator:hover {\n",
       "  /* unfitted */\n",
       "  background-color: var(--sklearn-color-unfitted-level-2);\n",
       "}\n",
       "\n",
       "#sk-container-id-1 div.sk-estimator.fitted:hover {\n",
       "  /* fitted */\n",
       "  background-color: var(--sklearn-color-fitted-level-2);\n",
       "}\n",
       "\n",
       "/* Specification for estimator info (e.g. \"i\" and \"?\") */\n",
       "\n",
       "/* Common style for \"i\" and \"?\" */\n",
       "\n",
       ".sk-estimator-doc-link,\n",
       "a:link.sk-estimator-doc-link,\n",
       "a:visited.sk-estimator-doc-link {\n",
       "  float: right;\n",
       "  font-size: smaller;\n",
       "  line-height: 1em;\n",
       "  font-family: monospace;\n",
       "  background-color: var(--sklearn-color-background);\n",
       "  border-radius: 1em;\n",
       "  height: 1em;\n",
       "  width: 1em;\n",
       "  text-decoration: none !important;\n",
       "  margin-left: 0.5em;\n",
       "  text-align: center;\n",
       "  /* unfitted */\n",
       "  border: var(--sklearn-color-unfitted-level-1) 1pt solid;\n",
       "  color: var(--sklearn-color-unfitted-level-1);\n",
       "}\n",
       "\n",
       ".sk-estimator-doc-link.fitted,\n",
       "a:link.sk-estimator-doc-link.fitted,\n",
       "a:visited.sk-estimator-doc-link.fitted {\n",
       "  /* fitted */\n",
       "  border: var(--sklearn-color-fitted-level-1) 1pt solid;\n",
       "  color: var(--sklearn-color-fitted-level-1);\n",
       "}\n",
       "\n",
       "/* On hover */\n",
       "div.sk-estimator:hover .sk-estimator-doc-link:hover,\n",
       ".sk-estimator-doc-link:hover,\n",
       "div.sk-label-container:hover .sk-estimator-doc-link:hover,\n",
       ".sk-estimator-doc-link:hover {\n",
       "  /* unfitted */\n",
       "  background-color: var(--sklearn-color-unfitted-level-3);\n",
       "  color: var(--sklearn-color-background);\n",
       "  text-decoration: none;\n",
       "}\n",
       "\n",
       "div.sk-estimator.fitted:hover .sk-estimator-doc-link.fitted:hover,\n",
       ".sk-estimator-doc-link.fitted:hover,\n",
       "div.sk-label-container:hover .sk-estimator-doc-link.fitted:hover,\n",
       ".sk-estimator-doc-link.fitted:hover {\n",
       "  /* fitted */\n",
       "  background-color: var(--sklearn-color-fitted-level-3);\n",
       "  color: var(--sklearn-color-background);\n",
       "  text-decoration: none;\n",
       "}\n",
       "\n",
       "/* Span, style for the box shown on hovering the info icon */\n",
       ".sk-estimator-doc-link span {\n",
       "  display: none;\n",
       "  z-index: 9999;\n",
       "  position: relative;\n",
       "  font-weight: normal;\n",
       "  right: .2ex;\n",
       "  padding: .5ex;\n",
       "  margin: .5ex;\n",
       "  width: min-content;\n",
       "  min-width: 20ex;\n",
       "  max-width: 50ex;\n",
       "  color: var(--sklearn-color-text);\n",
       "  box-shadow: 2pt 2pt 4pt #999;\n",
       "  /* unfitted */\n",
       "  background: var(--sklearn-color-unfitted-level-0);\n",
       "  border: .5pt solid var(--sklearn-color-unfitted-level-3);\n",
       "}\n",
       "\n",
       ".sk-estimator-doc-link.fitted span {\n",
       "  /* fitted */\n",
       "  background: var(--sklearn-color-fitted-level-0);\n",
       "  border: var(--sklearn-color-fitted-level-3);\n",
       "}\n",
       "\n",
       ".sk-estimator-doc-link:hover span {\n",
       "  display: block;\n",
       "}\n",
       "\n",
       "/* \"?\"-specific style due to the `<a>` HTML tag */\n",
       "\n",
       "#sk-container-id-1 a.estimator_doc_link {\n",
       "  float: right;\n",
       "  font-size: 1rem;\n",
       "  line-height: 1em;\n",
       "  font-family: monospace;\n",
       "  background-color: var(--sklearn-color-background);\n",
       "  border-radius: 1rem;\n",
       "  height: 1rem;\n",
       "  width: 1rem;\n",
       "  text-decoration: none;\n",
       "  /* unfitted */\n",
       "  color: var(--sklearn-color-unfitted-level-1);\n",
       "  border: var(--sklearn-color-unfitted-level-1) 1pt solid;\n",
       "}\n",
       "\n",
       "#sk-container-id-1 a.estimator_doc_link.fitted {\n",
       "  /* fitted */\n",
       "  border: var(--sklearn-color-fitted-level-1) 1pt solid;\n",
       "  color: var(--sklearn-color-fitted-level-1);\n",
       "}\n",
       "\n",
       "/* On hover */\n",
       "#sk-container-id-1 a.estimator_doc_link:hover {\n",
       "  /* unfitted */\n",
       "  background-color: var(--sklearn-color-unfitted-level-3);\n",
       "  color: var(--sklearn-color-background);\n",
       "  text-decoration: none;\n",
       "}\n",
       "\n",
       "#sk-container-id-1 a.estimator_doc_link.fitted:hover {\n",
       "  /* fitted */\n",
       "  background-color: var(--sklearn-color-fitted-level-3);\n",
       "}\n",
       "</style><div id=\"sk-container-id-1\" class=\"sk-top-container\"><div class=\"sk-text-repr-fallback\"><pre>Pipeline(steps=[(&#x27;pca&#x27;, PCA(n_components=50)),\n",
       "                (&#x27;classifier&#x27;,\n",
       "                 &lt;catboost.core.CatBoostClassifier object at 0x7f528421b850&gt;)])</pre><b>In a Jupyter environment, please rerun this cell to show the HTML representation or trust the notebook. <br />On GitHub, the HTML representation is unable to render, please try loading this page with nbviewer.org.</b></div><div class=\"sk-container\" hidden><div class=\"sk-item sk-dashed-wrapped\"><div class=\"sk-label-container\"><div class=\"sk-label fitted sk-toggleable\"><input class=\"sk-toggleable__control sk-hidden--visually\" id=\"sk-estimator-id-1\" type=\"checkbox\" ><label for=\"sk-estimator-id-1\" class=\"sk-toggleable__label fitted sk-toggleable__label-arrow\"><div><div>Pipeline</div></div><div><a class=\"sk-estimator-doc-link fitted\" rel=\"noreferrer\" target=\"_blank\" href=\"https://scikit-learn.org/1.6/modules/generated/sklearn.pipeline.Pipeline.html\">?<span>Documentation for Pipeline</span></a><span class=\"sk-estimator-doc-link fitted\">i<span>Fitted</span></span></div></label><div class=\"sk-toggleable__content fitted\"><pre>Pipeline(steps=[(&#x27;pca&#x27;, PCA(n_components=50)),\n",
       "                (&#x27;classifier&#x27;,\n",
       "                 &lt;catboost.core.CatBoostClassifier object at 0x7f528421b850&gt;)])</pre></div> </div></div><div class=\"sk-serial\"><div class=\"sk-item\"><div class=\"sk-estimator fitted sk-toggleable\"><input class=\"sk-toggleable__control sk-hidden--visually\" id=\"sk-estimator-id-2\" type=\"checkbox\" ><label for=\"sk-estimator-id-2\" class=\"sk-toggleable__label fitted sk-toggleable__label-arrow\"><div><div>PCA</div></div><div><a class=\"sk-estimator-doc-link fitted\" rel=\"noreferrer\" target=\"_blank\" href=\"https://scikit-learn.org/1.6/modules/generated/sklearn.decomposition.PCA.html\">?<span>Documentation for PCA</span></a></div></label><div class=\"sk-toggleable__content fitted\"><pre>PCA(n_components=50)</pre></div> </div></div><div class=\"sk-item\"><div class=\"sk-estimator fitted sk-toggleable\"><input class=\"sk-toggleable__control sk-hidden--visually\" id=\"sk-estimator-id-3\" type=\"checkbox\" ><label for=\"sk-estimator-id-3\" class=\"sk-toggleable__label fitted sk-toggleable__label-arrow\"><div><div>CatBoostClassifier</div></div></label><div class=\"sk-toggleable__content fitted\"><pre>&lt;catboost.core.CatBoostClassifier object at 0x7f528421b850&gt;</pre></div> </div></div></div></div></div></div>"
      ],
      "text/plain": [
       "Pipeline(steps=[('pca', PCA(n_components=50)),\n",
       "                ('classifier',\n",
       "                 <catboost.core.CatBoostClassifier object at 0x7f528421b850>)])"
      ]
     },
     "execution_count": 48,
     "metadata": {},
     "output_type": "execute_result"
    }
   ],
   "source": [
    "pipeline.fit(X, y)"
   ]
  },
  {
   "cell_type": "code",
   "execution_count": 49,
   "id": "5dcc0678",
   "metadata": {},
   "outputs": [],
   "source": [
    "probas = pipeline.predict_proba(x_test)"
   ]
  },
  {
   "cell_type": "code",
   "execution_count": 50,
   "id": "f72eac64",
   "metadata": {},
   "outputs": [
    {
     "data": {
      "text/html": [
       "<div>\n",
       "<style scoped>\n",
       "    .dataframe tbody tr th:only-of-type {\n",
       "        vertical-align: middle;\n",
       "    }\n",
       "\n",
       "    .dataframe tbody tr th {\n",
       "        vertical-align: top;\n",
       "    }\n",
       "\n",
       "    .dataframe thead th {\n",
       "        text-align: right;\n",
       "    }\n",
       "</style>\n",
       "<table border=\"1\" class=\"dataframe\">\n",
       "  <thead>\n",
       "    <tr style=\"text-align: right;\">\n",
       "      <th></th>\n",
       "      <th>ID</th>\n",
       "      <th>is_bot</th>\n",
       "    </tr>\n",
       "  </thead>\n",
       "  <tbody>\n",
       "    <tr>\n",
       "      <th>0</th>\n",
       "      <td>00559a1338f444c18eb301f1c822b483_0</td>\n",
       "      <td>0.109732</td>\n",
       "    </tr>\n",
       "    <tr>\n",
       "      <th>1</th>\n",
       "      <td>00559a1338f444c18eb301f1c822b483_1</td>\n",
       "      <td>0.606291</td>\n",
       "    </tr>\n",
       "    <tr>\n",
       "      <th>2</th>\n",
       "      <td>007bf899fb5b4a3b8105183d0ca56cfa_0</td>\n",
       "      <td>0.259852</td>\n",
       "    </tr>\n",
       "    <tr>\n",
       "      <th>3</th>\n",
       "      <td>007bf899fb5b4a3b8105183d0ca56cfa_1</td>\n",
       "      <td>0.100823</td>\n",
       "    </tr>\n",
       "    <tr>\n",
       "      <th>4</th>\n",
       "      <td>00ae575033054ce3ba68d2d3e1ba30e2_0</td>\n",
       "      <td>0.503313</td>\n",
       "    </tr>\n",
       "  </tbody>\n",
       "</table>\n",
       "</div>"
      ],
      "text/plain": [
       "                                   ID    is_bot\n",
       "0  00559a1338f444c18eb301f1c822b483_0  0.109732\n",
       "1  00559a1338f444c18eb301f1c822b483_1  0.606291\n",
       "2  007bf899fb5b4a3b8105183d0ca56cfa_0  0.259852\n",
       "3  007bf899fb5b4a3b8105183d0ca56cfa_1  0.100823\n",
       "4  00ae575033054ce3ba68d2d3e1ba30e2_0  0.503313"
      ]
     },
     "execution_count": 50,
     "metadata": {},
     "output_type": "execute_result"
    }
   ],
   "source": [
    "submission = ppl_test_df\n",
    "submission[\"is_bot\"] = probas[:, 1]\n",
    "submission = submission.drop(\n",
    "    columns=[\"mean_ppl\", \"text\", \"min_ppl\", \"variance_ppl\", \"num_messages\"]\n",
    ")\n",
    "submission.head()"
   ]
  },
  {
   "cell_type": "code",
   "execution_count": 51,
   "id": "4b99bdda",
   "metadata": {},
   "outputs": [],
   "source": [
    "submission.to_csv(\"../data/submission.csv\", index=False)"
   ]
  },
  {
   "cell_type": "markdown",
   "id": "630ef30f",
   "metadata": {},
   "source": [
    "## Experiment 5. Extracting additional features: min perplexity, perplexity variance and number of messages"
   ]
  },
  {
   "cell_type": "code",
   "execution_count": 52,
   "id": "9d59693b",
   "metadata": {},
   "outputs": [],
   "source": [
    "cat_model = CatBoostClassifier(\n",
    "    iterations=300,\n",
    "    learning_rate=0.05,\n",
    "    depth=5,\n",
    "    loss_function=\"Logloss\",\n",
    "    eval_metric=\"Logloss\",\n",
    "    random_seed=42,\n",
    "    verbose=100,\n",
    "    class_weights=[2, 3],\n",
    "    early_stopping_rounds=100,\n",
    "    task_type=\"GPU\",\n",
    ")"
   ]
  },
  {
   "cell_type": "code",
   "execution_count": 53,
   "id": "0f346f9a",
   "metadata": {},
   "outputs": [
    {
     "name": "stderr",
     "output_type": "stream",
     "text": [
      "Warning: less than 75% GPU memory available for training. Free: 828 Total: 1863.6875\n"
     ]
    },
    {
     "name": "stdout",
     "output_type": "stream",
     "text": [
      "0:\tlearn: 0.6796903\ttotal: 6.14ms\tremaining: 1.83s\n",
      "100:\tlearn: 0.3476071\ttotal: 396ms\tremaining: 779ms\n",
      "200:\tlearn: 0.2256444\ttotal: 721ms\tremaining: 355ms\n",
      "299:\tlearn: 0.1494706\ttotal: 1.02s\tremaining: 0us\n"
     ]
    },
    {
     "name": "stderr",
     "output_type": "stream",
     "text": [
      "Warning: less than 75% GPU memory available for training. Free: 828 Total: 1863.6875\n"
     ]
    },
    {
     "name": "stdout",
     "output_type": "stream",
     "text": [
      "0:\tlearn: 0.6814892\ttotal: 3.66ms\tremaining: 1.09s\n",
      "100:\tlearn: 0.3526492\ttotal: 268ms\tremaining: 528ms\n",
      "200:\tlearn: 0.2256982\ttotal: 529ms\tremaining: 261ms\n",
      "299:\tlearn: 0.1518680\ttotal: 784ms\tremaining: 0us\n"
     ]
    },
    {
     "name": "stderr",
     "output_type": "stream",
     "text": [
      "Warning: less than 75% GPU memory available for training. Free: 828 Total: 1863.6875\n"
     ]
    },
    {
     "name": "stdout",
     "output_type": "stream",
     "text": [
      "0:\tlearn: 0.6812494\ttotal: 4.72ms\tremaining: 1.41s\n",
      "100:\tlearn: 0.3554224\ttotal: 276ms\tremaining: 544ms\n",
      "200:\tlearn: 0.2310144\ttotal: 532ms\tremaining: 262ms\n",
      "299:\tlearn: 0.1549723\ttotal: 789ms\tremaining: 0us\n"
     ]
    },
    {
     "name": "stderr",
     "output_type": "stream",
     "text": [
      "Warning: less than 75% GPU memory available for training. Free: 828 Total: 1863.6875\n"
     ]
    },
    {
     "name": "stdout",
     "output_type": "stream",
     "text": [
      "0:\tlearn: 0.6813129\ttotal: 3.86ms\tremaining: 1.15s\n",
      "100:\tlearn: 0.3409161\ttotal: 269ms\tremaining: 529ms\n",
      "200:\tlearn: 0.2227792\ttotal: 530ms\tremaining: 261ms\n",
      "299:\tlearn: 0.1520956\ttotal: 788ms\tremaining: 0us\n"
     ]
    },
    {
     "name": "stderr",
     "output_type": "stream",
     "text": [
      "Warning: less than 75% GPU memory available for training. Free: 828 Total: 1863.6875\n"
     ]
    },
    {
     "name": "stdout",
     "output_type": "stream",
     "text": [
      "0:\tlearn: 0.6813329\ttotal: 3.36ms\tremaining: 1s\n",
      "100:\tlearn: 0.3568641\ttotal: 270ms\tremaining: 531ms\n",
      "200:\tlearn: 0.2321822\ttotal: 533ms\tremaining: 262ms\n",
      "299:\tlearn: 0.1549492\ttotal: 793ms\tremaining: 0us\n",
      "Train scores:\n",
      "Accuracy: 0.9973\n",
      "ROC AUC: 1.0000\n",
      "F1: 0.9961\n",
      "Log Loss: 0.1536\n",
      "\n",
      "Validation scores:\n",
      "Accuracy: 0.7762\n",
      "ROC AUC: 0.8177\n",
      "F1: 0.6408\n",
      "Log Loss: 0.4876\n"
     ]
    }
   ],
   "source": [
    "mean_ppl = ppl_train_df[\"mean_ppl\"].values.reshape(-1, 1)\n",
    "min_ppl = ppl_train_df[\"min_ppl\"].values.reshape(-1, 1)\n",
    "variance_ppl = ppl_train_df[\"variance_ppl\"].values.reshape(-1, 1)\n",
    "num_messages = ppl_train_df[\"num_messages\"].values.reshape(-1, 1)\n",
    "\n",
    "X = np.hstack([mean_ppl, min_ppl, variance_ppl, num_messages, train_embeddings])\n",
    "y = ppl_train_df[\"is_bot\"].values\n",
    "\n",
    "\n",
    "pipeline = Pipeline(\n",
    "    [\n",
    "        (\"pca\", PCA(n_components=100)),\n",
    "        (\"classifier\", cat_model),\n",
    "    ]\n",
    ")\n",
    "\n",
    "\n",
    "cv = StratifiedKFold(n_splits=5, shuffle=True, random_state=42)\n",
    "\n",
    "scores = cross_validate(\n",
    "    pipeline,\n",
    "    X,\n",
    "    y,\n",
    "    cv=cv,\n",
    "    scoring=(\"accuracy\", \"roc_auc\", \"f1\", \"neg_log_loss\"),\n",
    "    return_train_score=True,\n",
    ")\n",
    "\n",
    "\n",
    "print_metrics(scores)"
   ]
  },
  {
   "cell_type": "code",
   "execution_count": 54,
   "id": "bf962744",
   "metadata": {},
   "outputs": [],
   "source": [
    "ppl_test_df = ppl_test_df.fillna(0)"
   ]
  },
  {
   "cell_type": "code",
   "execution_count": 55,
   "id": "cb01d59e",
   "metadata": {},
   "outputs": [],
   "source": [
    "test_mean_ppl = ppl_test_df[\"mean_ppl\"].values.reshape(-1, 1)\n",
    "test_min_ppl = ppl_test_df[\"min_ppl\"].values.reshape(-1, 1)\n",
    "test_variance_ppl = ppl_test_df[\"variance_ppl\"].values.reshape(-1, 1)\n",
    "test_num_messages = ppl_test_df[\"num_messages\"].values.reshape(-1, 1)\n",
    "\n",
    "x_test = np.hstack(\n",
    "    [test_mean_ppl, test_min_ppl, test_variance_ppl, test_num_messages, test_embeddings]\n",
    ")"
   ]
  },
  {
   "cell_type": "code",
   "execution_count": 56,
   "id": "79190919",
   "metadata": {},
   "outputs": [
    {
     "name": "stderr",
     "output_type": "stream",
     "text": [
      "Warning: less than 75% GPU memory available for training. Free: 828 Total: 1863.6875\n"
     ]
    },
    {
     "name": "stdout",
     "output_type": "stream",
     "text": [
      "0:\tlearn: 0.6800235\ttotal: 3.19ms\tremaining: 954ms\n",
      "100:\tlearn: 0.3803338\ttotal: 278ms\tremaining: 547ms\n",
      "200:\tlearn: 0.2652259\ttotal: 539ms\tremaining: 266ms\n",
      "299:\tlearn: 0.1883073\ttotal: 802ms\tremaining: 0us\n"
     ]
    }
   ],
   "source": [
    "pipeline.fit(X, y)\n",
    "probas = pipeline.predict_proba(x_test)"
   ]
  },
  {
   "cell_type": "code",
   "execution_count": 57,
   "id": "cc09708d",
   "metadata": {},
   "outputs": [
    {
     "data": {
      "text/html": [
       "<div>\n",
       "<style scoped>\n",
       "    .dataframe tbody tr th:only-of-type {\n",
       "        vertical-align: middle;\n",
       "    }\n",
       "\n",
       "    .dataframe tbody tr th {\n",
       "        vertical-align: top;\n",
       "    }\n",
       "\n",
       "    .dataframe thead th {\n",
       "        text-align: right;\n",
       "    }\n",
       "</style>\n",
       "<table border=\"1\" class=\"dataframe\">\n",
       "  <thead>\n",
       "    <tr style=\"text-align: right;\">\n",
       "      <th></th>\n",
       "      <th>ID</th>\n",
       "      <th>is_bot</th>\n",
       "    </tr>\n",
       "  </thead>\n",
       "  <tbody>\n",
       "    <tr>\n",
       "      <th>0</th>\n",
       "      <td>00559a1338f444c18eb301f1c822b483_0</td>\n",
       "      <td>0.057868</td>\n",
       "    </tr>\n",
       "    <tr>\n",
       "      <th>1</th>\n",
       "      <td>00559a1338f444c18eb301f1c822b483_1</td>\n",
       "      <td>0.548630</td>\n",
       "    </tr>\n",
       "    <tr>\n",
       "      <th>2</th>\n",
       "      <td>007bf899fb5b4a3b8105183d0ca56cfa_0</td>\n",
       "      <td>0.093853</td>\n",
       "    </tr>\n",
       "    <tr>\n",
       "      <th>3</th>\n",
       "      <td>007bf899fb5b4a3b8105183d0ca56cfa_1</td>\n",
       "      <td>0.044831</td>\n",
       "    </tr>\n",
       "    <tr>\n",
       "      <th>4</th>\n",
       "      <td>00ae575033054ce3ba68d2d3e1ba30e2_0</td>\n",
       "      <td>0.350024</td>\n",
       "    </tr>\n",
       "  </tbody>\n",
       "</table>\n",
       "</div>"
      ],
      "text/plain": [
       "                                   ID    is_bot\n",
       "0  00559a1338f444c18eb301f1c822b483_0  0.057868\n",
       "1  00559a1338f444c18eb301f1c822b483_1  0.548630\n",
       "2  007bf899fb5b4a3b8105183d0ca56cfa_0  0.093853\n",
       "3  007bf899fb5b4a3b8105183d0ca56cfa_1  0.044831\n",
       "4  00ae575033054ce3ba68d2d3e1ba30e2_0  0.350024"
      ]
     },
     "execution_count": 57,
     "metadata": {},
     "output_type": "execute_result"
    }
   ],
   "source": [
    "submission = ppl_test_df\n",
    "submission[\"is_bot\"] = probas[:, 1]\n",
    "submission = submission.drop(\n",
    "    columns=[\"mean_ppl\", \"text\", \"min_ppl\", \"variance_ppl\", \"num_messages\"]\n",
    ")\n",
    "submission.head()"
   ]
  },
  {
   "cell_type": "markdown",
   "id": "41278a44",
   "metadata": {},
   "source": [
    "Loading the best result"
   ]
  },
  {
   "cell_type": "code",
   "execution_count": 58,
   "id": "3e723ad8",
   "metadata": {},
   "outputs": [],
   "source": [
    "submission.to_csv(\"../data/submission.csv\", index=False)"
   ]
  }
 ],
 "metadata": {
  "kernelspec": {
   "display_name": "DLS",
   "language": "python",
   "name": "python3"
  },
  "language_info": {
   "codemirror_mode": {
    "name": "ipython",
    "version": 3
   },
   "file_extension": ".py",
   "mimetype": "text/x-python",
   "name": "python",
   "nbconvert_exporter": "python",
   "pygments_lexer": "ipython3",
   "version": "3.10.17"
  }
 },
 "nbformat": 4,
 "nbformat_minor": 5
}
